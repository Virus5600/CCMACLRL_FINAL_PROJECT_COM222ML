{
 "cells": [
  {
   "cell_type": "markdown",
   "metadata": {},
   "source": [
    "# Import Libraries\n",
    "\n",
    "All library imports are done in here"
   ]
  },
  {
   "cell_type": "code",
   "execution_count": 2,
   "metadata": {},
   "outputs": [
    {
     "data": {
      "text/plain": [
       "True"
      ]
     },
     "execution_count": 2,
     "metadata": {},
     "output_type": "execute_result"
    }
   ],
   "source": [
    "# Built-in Library Imports\n",
    "import os\n",
    "import requests\n",
    "\n",
    "from itertools import islice\n",
    "from time import sleep\n",
    "\n",
    "# Base Library Imports\n",
    "import pandas as pd\n",
    "import numpy as np\n",
    "import matplotlib.pyplot as plt\n",
    "import seaborn as sns\n",
    "\n",
    "# Sklearn Imports\n",
    "from sklearn.base import BaseEstimator\n",
    "from sklearn.feature_selection import RFE\n",
    "\n",
    "from sklearn.metrics import classification_report, mean_squared_error, root_mean_squared_error, accuracy_score\n",
    "from sklearn.model_selection import train_test_split, cross_val_score, KFold\n",
    "from sklearn.preprocessing import StandardScaler, MinMaxScaler\n",
    "\n",
    "# Sklearn Model Imports\n",
    "from sklearn.ensemble import RandomForestRegressor\n",
    "from sklearn.linear_model import LinearRegression, LogisticRegression\n",
    "from sklearn.tree import DecisionTreeRegressor\n",
    "\n",
    "# Dotenv Import, allowing the use of .env files.\n",
    "from dotenv import load_dotenv\n",
    "load_dotenv()"
   ]
  },
  {
   "cell_type": "markdown",
   "metadata": {},
   "source": [
    "# Variables\n",
    "\n",
    "All global variables are to be defined in this section."
   ]
  },
  {
   "cell_type": "code",
   "execution_count": 3,
   "metadata": {},
   "outputs": [
    {
     "data": {
      "text/plain": [
       "'\\nThe `audioFeatures` list contains all the audio features that are used for training the model.\\nThis includes the entire `indexes` list while the `track_popularity` is added to the list but\\nis not included in the `indexes` list. This is because the `track_popularity` is the `y` value\\nfor the model.\\n'"
      ]
     },
     "execution_count": 3,
     "metadata": {},
     "output_type": "execute_result"
    }
   ],
   "source": [
    "dataPath = \"./datapack\"\n",
    "\"\"\"\n",
    "Defines the folder path where the data is stored. This variable should not be changed as it is\n",
    "used to locate the data for the project. If there are user-provided data that will be used, these\n",
    "data must be stored in the folder defined by this variable.\n",
    "\n",
    ":default: \"./datapack\"\n",
    "\"\"\"\n",
    "\n",
    "outputPath = \"./output\"\n",
    "\"\"\"\n",
    "Defines the folder path where the output files are stored. This variable should not be changed as it\n",
    "is used to locate the output files for the project. If there are any output files that will be generated\n",
    "from the project, these files must be stored in the folder defined by this variable.\n",
    "\"\"\"\n",
    "\n",
    "defaultTrainData = f\"{dataPath}/spotify_songs.csv\"\n",
    "\"\"\"\n",
    "The `defaultTrainData` variable contains the default path to the training data. This is used\n",
    "when the user does not provide a path to the training data. The path is relative to the root\n",
    "directory of the project and must remain so.\n",
    "\n",
    ":default: \"./datapath/spotify_songs.csv\"\n",
    "\"\"\"\n",
    "\n",
    "trainData = defaultTrainData\n",
    "\"\"\"\n",
    "The `trainData` variable contains the path to the training data. This variable is used to store\n",
    "any user-provided data that will be used for training the model. If the user does not provide\n",
    "a path to the training data, the `defaultTrainData` variable is used instead.\n",
    "\n",
    ":default: \"./datapath/spotify_songs.csv\"\n",
    "\"\"\"\n",
    "\n",
    "indexes = [\n",
    "    'danceability',\n",
    "    'energy',\n",
    "    'key',\n",
    "    'loudness',\n",
    "    'mode',\n",
    "    'speechiness',\n",
    "    'acousticness',\n",
    "    'instrumentalness',\n",
    "    'liveness',\n",
    "    'valence',\n",
    "    'tempo'\n",
    "]\n",
    "\"\"\"\n",
    "Contains all the indexes that are used for the audio features. These indexes are the `x`\n",
    "values for the model.\n",
    "\"\"\"\n",
    "\n",
    "audioFeatures = ['track_popularity'] + indexes\n",
    "\"\"\"\n",
    "The `audioFeatures` list contains all the audio features that are used for training the model.\n",
    "This includes the entire `indexes` list while the `track_popularity` is added to the list but\n",
    "is not included in the `indexes` list. This is because the `track_popularity` is the `y` value\n",
    "for the model.\n",
    "\"\"\""
   ]
  },
  {
   "cell_type": "markdown",
   "metadata": {},
   "source": [
    "# Functions\n",
    "\n",
    "All functions to define are done in this section. This section is divided into two categories:\n",
    "\n",
    "- [API Functions](#api-functions)\n",
    "- [Model Functions](#model-functions)\n",
    "- [Project Functions](#project-functions)"
   ]
  },
  {
   "cell_type": "markdown",
   "metadata": {},
   "source": [
    "## API Functions\n",
    "\n",
    "All API related functions are created in this category, such as the `getToken` function where it fetches the user's access token by feeding it the `CLIENT_ID` and `CLIENT_SECRET` tokens."
   ]
  },
  {
   "cell_type": "code",
   "execution_count": 4,
   "metadata": {},
   "outputs": [],
   "source": [
    "def getToken() -> str:\n",
    "    \"\"\"\n",
    "    Fetches the user's `ACCESS_TOKEN` by sending a POST request to Spotify's API.\n",
    "    Access token is required to make requests to Spotify's API.\n",
    "    To be able to get the token, you need to have a `CLIENT_ID` and `CLIENT_SECRET`\n",
    "    which can be obtained by creating a Spotify Developer account, which will then be\n",
    "    put in a `.env` file in the root directory of the project.\n",
    "    \n",
    "    :return str: The access token of the user.\n",
    "    :raises Exception: If the request does not return a status code of 200.\n",
    "    \"\"\"\n",
    "\n",
    "    url = \"https://accounts.spotify.com/api/token\"\n",
    "    header = {\"Content-type\": \"application/x-www-form-urlencoded\"}\n",
    "    data = {\n",
    "        \"grant_type\": \"client_credentials\",\n",
    "        \"client_id\": os.getenv(\"CLIENT_ID\"),\n",
    "        \"client_secret\": os.getenv(\"CLIENT_SECRET\")\n",
    "    }\n",
    "\n",
    "\t# Send request to get token\n",
    "    res = requests.post(\n",
    "        url,\n",
    "        headers = header,\n",
    "        data = data\n",
    "    )\n",
    "\n",
    "    if res.status_code == 429:\n",
    "        print(res)\n",
    "        raise Exception(f\"getToken: Rate Limit Exceeded, try again in {res.headers.get('Retry-After', 1)} seconds\")\n",
    "    # if request does not return 200, raise exception\n",
    "    elif res.status_code != 200:\n",
    "        raise Exception(\"getToken: \", res.text)\n",
    "\n",
    "    # Example Output: 'BQCq8oiJHxi.....iv_5sAuoF1YwhQADyc'\n",
    "    return res.json()['access_token']\n",
    "\n",
    "# ==================================================================================================== #\n",
    "\n",
    "def getAudioFeatures(trackID: str) -> dict:\n",
    "    \"\"\"\n",
    "    Fetches the audio features of a track by sending a GET request to Spotify's API.\n",
    "    \n",
    "    The audio features include the following:\n",
    "    - **`acousticness`** [0.0 - 1.0] -      A confidence measure from 0.0 to 1.0 of whether the track is acoustic. 1.0 represents high confidence the track is acoustic.\n",
    "    - **`analysis_url`** [string] -         An HTTP URL to access the full audio analysis of this track. An access token is required to access this data.\n",
    "    - **`danceability`** [0.0 - 1.0] -      Danceability describes how suitable a track is for dancing based on a combination of musical elements including tempo, rhythm stability, beat strength, and overall regularity. A value of 0.0 is least danceable and 1.0 is most danceable.\n",
    "    - **`duration_ms`** [int] -             The duration of the track in milliseconds.\n",
    "    - **`energy`** [0.0 - 1.0] -            Energy is a measure from 0.0 to 1.0 and represents a perceptual measure of intensity and activity. Typically, energetic tracks feel fast, loud, and noisy.\n",
    "    - **`id`** [string] -                   The Spotify ID for the track.\n",
    "    - **`instrumentalness`** [0.0 - 1.0] -  Predicts whether a track contains no vocals. “Ooh” and “aah” sounds are treated as instrumental in this context. Rap or spoken word tracks are clearly “vocal”. The closer the instrumentalness value is to 1.0, the greater likelihood the track contains no vocal content.\n",
    "    - **`key`** [int] -                     The key the track is in. Integers map to pitches using standard [Pitch Class notation](https://en.wikipedia.org/wiki/Pitch_class). E.g. 0 = C, 1 = C♯/D♭, 2 = D, and so on. If no key was detected, the value is -1.\n",
    "    - **`liveness`** [0.0 - 1.0] -          Detects the presence of an audience in the recording. Higher liveness values represent an increased probability that the track was performed live. A value above 0.8 provides strong likelihood that the track is live.\n",
    "    - **`loudness`** [-60.0 - 0.0] -        The overall loudness of a track in decibels (dB). Loudness values are averaged across the entire track and are useful for comparing relative loudness of tracks. Loudness is the quality of a sound that is the primary psychological correlate of physical strength (amplitude). Values typical range between -60 and 0 db.\n",
    "    - **`mode`** [int] -                    Mode indicates the modality (major or minor) of a track, the type of scale from which its melodic content is derived. Major is represented by 1 and minor is 0.\n",
    "    - **`speechiness`** [0.0 - 1.0] -       Speechiness detects the presence of spoken words in a track. The more exclusively speech-like the recording (e.g. talk show, audio book, poetry), the closer to 1.0 the attribute value. Values above 0.66 describe tracks that are probably made entirely of spoken words. Values between 0.33 and 0.66 describe tracks that may contain both music and speech, either in sections or layered, including such cases as rap music.\n",
    "    - **`tempo`** [float] -                 The overall estimated tempo of a track in beats per minute (BPM). In musical terminology, tempo is the speed or pace of a given piece and derives directly from the average beat duration.\n",
    "    - **`time_signature`** [int] -          An estimated overall time signature of a track. The time signature (meter) is a notational convention to specify how many beats are in each bar (or measure). The time signature ranges from 3 to 7 indicating time signatures of \"3/4\", to \"7/4\".\n",
    "    - **`track_href`** [string] -           A link to the Web API endpoint providing full details of the track.\n",
    "    - **`type`** [string] -                 The object type: “audio_features”\n",
    "    - **`uri`** [string] -                  The Spotify URI for the track.\n",
    "    - **`valence`** [0.0 - 1.0] -           A measure from 0.0 to 1.0 describing the musical positiveness conveyed by a track. Tracks with high valence sound more positive (e.g. happy, cheerful, euphoric), while tracks with low valence sound more negative (e.g. sad, depressed, angry).\n",
    "    \n",
    "    :param trackID: The Spotify ID for the track. (Example: \"06AKEBrKUckW0KREUWRnvT\")\n",
    "    :type trackID: str\n",
    "    \n",
    "    :return dict: The audio features of the track.\n",
    "    \"\"\"\n",
    "    url = \"https://api.spotify.com/v1/audio-features/\" + trackID\n",
    "    header = {\"Authorization\": \"Bearer \" + getToken() }\n",
    "    res = requests.get(\n",
    "        url,\n",
    "        headers = header\n",
    "    )\n",
    "\n",
    "    if res.status_code == 429:\n",
    "        print(res)\n",
    "        raise Exception(\"getToken: Rate Limit Exceeded\")\n",
    "    elif res.status_code != 200:\n",
    "        raise Exception(f\"getAF: {res.json()[\"error\"][\"message\"]}\")\n",
    "    \n",
    "    return res.json()\n",
    "\n",
    "# ==================================================================================================== #\n",
    "\n",
    "def getPopularity(trackID: str, multiple: bool = False) -> int:\n",
    "    \"\"\"\n",
    "    Fetches the popularity of a track by sending a GET request to Spotify's API.\n",
    "    \n",
    "    :param trackID: The Spotify ID for the track. (Example: `\"09o4dR4x2Sx6wjv4u5xdux\"`)\n",
    "    :type trackID: str\n",
    "    \n",
    "    :param multiple: Whether the provided `trackID` is a list of track IDs or not. (Default: `False`)\n",
    "    :type multiple: bool\n",
    "    \n",
    "    :return int | dict: The popularity of the track. If `multiple` is set to `True`, a dictionary with the track IDs as the keys and the popularity as the values will be returned.\n",
    "    \"\"\"\n",
    "    \n",
    "    url = f\"https://api.spotify.com/v1/tracks{\"?ids=\" if multiple else \"/\"}{trackID}\"\n",
    "    header = {\"Authorization\": \"Bearer \" + getToken() }\n",
    "    res = requests.get(\n",
    "        url,\n",
    "        headers = header\n",
    "    )\n",
    "    \n",
    "    if res.status_code == 429:\n",
    "        print(res)\n",
    "        raise Exception(\"getToken: Rate Limit Exceeded\")\n",
    "    elif res.status_code != 200:\n",
    "        raise Exception(f\"getPopularity: {res.json()[\"error\"][\"message\"]}\")\n",
    "    \n",
    "    if multiple:\n",
    "        toRet = {}\n",
    "        for track in res.json()['tracks']:\n",
    "            toRet[track['id']] = track['popularity']\n",
    "        return toRet\n",
    "    else:\n",
    "        return res.json()['popularity']\n",
    "\n",
    "# ==================================================================================================== #\n",
    "\n",
    "def getName(trackID: str, withArtist: bool = False, multiple: bool = False) -> str:\n",
    "    \"\"\"\n",
    "    Fetches the name of a track by sending a GET request to Spotify's API.\n",
    "    \n",
    "    :param trackID: The Spotify ID for the track. (Example: `\"09o4dR4x2Sx6wjv4u5xdux\"` => `\"Kekkon Koushinkyoku\"`)\n",
    "    :type trackID: str\n",
    "    \n",
    "    :param withArtist: Whether to include the artist of the track in the output. (Default: `False`)\n",
    "    :type withArtist: bool\n",
    "    \n",
    "    :param multiple: Whether the provided `trackID` is a list of track IDs or not. (Default: `False`)\n",
    "    :type multiple: bool\n",
    "    \n",
    "    :return str: The name of the track. If `withArtist` is set to `True`, the name of the track and the artist will be included in the output. And if `multiple` is set to `True`, a dictionary with the track IDs as the keys and the names as the values will be returned.\n",
    "    \"\"\"\n",
    "    \n",
    "    url = f\"https://api.spotify.com/v1/tracks{\"?ids=\" if multiple else \"/\"}{trackID}\"\n",
    "    header = {\"Authorization\": \"Bearer \" + getToken() }\n",
    "    res = requests.get(\n",
    "        url,\n",
    "        headers = header\n",
    "    )\n",
    "    \n",
    "    if res.status_code == 429:\n",
    "        print(res)\n",
    "        raise Exception(\"getToken: Rate Limit Exceeded\")\n",
    "    elif res.status_code != 200:\n",
    "        raise Exception(f\"getName: {res.json()[\"error\"][\"message\"]}\")\n",
    "    \n",
    "    if multiple:\n",
    "        toRet = {}\n",
    "        for track in res.json()['tracks']:\n",
    "            toRet[track['id']] = track['name'] + (\" (\" + track['artists'][0]['name'] + \")\" if withArtist else \"\")\n",
    "        return toRet\n",
    "    else:\n",
    "        return res.json()['name'] + (\" (\" + res.json()['artists'][0]['name'] + \")\" if withArtist else \"\")\n",
    "\n",
    "# ==================================================================================================== #\n",
    "\n",
    "def getSongData(trackID: str, withName: bool = False, asDataFrame: bool = False, multiple: bool = False) -> dict | list | pd.DataFrame:\n",
    "    \"\"\"\n",
    "    Fetches the audio features and popularity of a track by sending a GET request to Spotify's API.\n",
    "    \n",
    "    If `withName` is set to `True`, the name of the track and the artist will be included in the\n",
    "    output, allowing for easier identification of the track. The format of the output will be a list\n",
    "    with the first element being the audio features and popularity of the track, and the second element\n",
    "    being the name of the track and the artist.\n",
    "    \n",
    "    :param trackID: The Spotify ID for the track. (Example: `\"09o4dR4x2Sx6wjv4u5xdux\"` => `\"Kekkon Koushinkyoku\"`)\n",
    "    :type trackID: str\n",
    "    \n",
    "    :param withName: Whether to include the name of the track and the artist in the output. (Default: `False`)\n",
    "    :type withName: bool\n",
    "    \n",
    "    :param asDataFrame: Whether to return the data as a `DataFrame` or not. (Defaults: `False`)\n",
    "    :type asDataFrame: bool\n",
    "    \n",
    "    :param multiple: Whether the provided `trackID` is a list of track IDs or not. (Default: `False`)\n",
    "    :type multiple: bool\n",
    "    \n",
    "    :return dict | list | pd.DataFrame: The audio features and popularity of the track. If `withName` is set to `True`, the name of the track and the artist will be included in the output.\n",
    "    \"\"\"\n",
    "    songData = None\n",
    "    if multiple:\n",
    "        for id in trackID.split(\",\"):\n",
    "            songData = getAudioFeatures(id)\n",
    "            sleep(1)\n",
    "    else:\n",
    "        songData = getAudioFeatures(trackID)\n",
    "    \n",
    "    songData['track_popularity'] = getPopularity(trackID, multiple = multiple)\n",
    "    \n",
    "    needed = [\"track_popularity\"] + indexes\n",
    "    name = None\n",
    "    \n",
    "    if (withName):\n",
    "        name = getName(trackID, withArtist = True, multiple = multiple)\n",
    "    \n",
    "    for key in list(songData.keys()):\n",
    "        if key not in needed:\n",
    "            del songData[key]\n",
    "    \n",
    "    if (asDataFrame):\n",
    "        songData = pd.DataFrame(songData, index = [0])\n",
    "    \n",
    "    return songData if not withName else (songData, name)"
   ]
  },
  {
   "cell_type": "markdown",
   "metadata": {},
   "source": [
    "## Model Functions\n",
    "\n",
    "All functions relating to training a model can be defined here. This separation from [Project Functions](#project-functions) allows organization of codes and a non-cluttered workspace."
   ]
  },
  {
   "cell_type": "code",
   "execution_count": 5,
   "metadata": {},
   "outputs": [],
   "source": [
    "def trainDecisionTree(xTrain, yTrain, criterion = \"squared_error\", folds = 5) -> DecisionTreeRegressor:\n",
    "    \"\"\"\n",
    "    Trains a Decision Tree model using the given data.\n",
    "    \n",
    "    ## See:\n",
    "    - [DecisionTreeRegressor](https://scikit-learn.org/dev/modules/generated/sklearn.tree.DecisionTreeRegressor.html)\n",
    "    - [KFold](https://scikit-learn.org/dev/modules/generated/sklearn.model_selection.KFold.html#sklearn.model_selection.KFold)\n",
    "    \n",
    "    :param xTrain: The training data.\n",
    "    :type xTrain: numpy.ndarray\n",
    "    \n",
    "    :param yTrain: The target data.\n",
    "    :type yTrain: numpy.ndarray\n",
    "    \n",
    "    :param criterion: The function to measure the quality of a split. (Default: \"squared_error\")\n",
    "    :type criterion: {\"squared_error\", \"absolute_error\", \"friedman_mse\", \"poisson\"}, default = \"squared_error\"\n",
    "    \n",
    "    :param folds: The number of folds to use for cross-validation. (Default: 5)\n",
    "    :type folds: int\n",
    "    \n",
    "    :return DecisionTreeRegressor: The trained Decision Tree model.\n",
    "    \"\"\"\n",
    "    model = DecisionTreeRegressor(criterion = criterion)\n",
    "    model.fit(xTrain, yTrain)\n",
    "\n",
    "    kFolds = KFold(n_splits = folds)\n",
    "    scores = cross_val_score(model, xTrain, yTrain, cv = kFolds)\n",
    "    print(f\"Decision Tree Regressor Score: {scores}\")\n",
    "    print(\"%0.2f accuracy with a standard deviation of %0.2f\" % (scores.mean(), scores.std()))\n",
    "\n",
    "    return model\n",
    "\n",
    "# ==================================================================================================== #\n",
    "\n",
    "def trainRandomForest(xTrain, yTrain, criterion = \"squared_error\", folds = 5) -> RandomForestRegressor:\n",
    "    \"\"\"\n",
    "    Trains a Random Forest model using the given data.\n",
    "    \n",
    "    ## See:\n",
    "    - [RandomForestRegressor](https://scikit-learn.org/dev/modules/generated/sklearn.ensemble.RandomForestRegressor.html)\n",
    "    - [KFold](https://scikit-learn.org/dev/modules/generated/sklearn.model_selection.KFold.html#sklearn.model_selection.KFold)\n",
    "    \n",
    "    :param xTrain: The training data.\n",
    "    :type xTrain: numpy.ndarray\n",
    "    \n",
    "    :param yTrain: The target data.\n",
    "    :type yTrain: numpy.ndarray\n",
    "    \n",
    "    :param criterion: The function to measure the quality of a split. (Default: \"squared_error\")\n",
    "    :type criterion: {\"squared_error\", \"absolute_error\", \"friedman_mse\", \"poisson\"}, default = \"squared_error\"\n",
    "    \n",
    "    :param folds: The number of folds to use for cross-validation. (Default: 5)\n",
    "    :type folds: int, default = 5\n",
    "    \n",
    "    :return RandomForestRegressor: The trained Random Forest model.\n",
    "    \"\"\"\n",
    "    model = RandomForestRegressor(criterion = criterion)\n",
    "    model.fit(xTrain, yTrain)\n",
    "\n",
    "    kFolds = KFold(n_splits = folds)\n",
    "    scores = cross_val_score(model, xTrain, yTrain, cv = kFolds)\n",
    "    print(f\"Random Forest Regressor Score: {scores}\")\n",
    "    print(\"%0.2f accuracy with a standard deviation of %0.2f\" % (scores.mean(), scores.std()))\n",
    "\n",
    "    return model\n",
    "\n",
    "# ==================================================================================================== #\n",
    "\n",
    "def trainLogisticRegression(xTrain, yTrain, folds = 5) -> LogisticRegression:\n",
    "    \"\"\"\n",
    "    Trains a Logistic Regression model using the given data.\n",
    "    \n",
    "    ## See:\n",
    "    - [LogisticRegression](https://scikit-learn.org/dev/modules/generated/sklearn.linear_model.LogisticRegression.html#sklearn.linear_model.LogisticRegression)\n",
    "    - [KFold](https://scikit-learn.org/dev/modules/generated/sklearn.model_selection.KFold.html#sklearn.model_selection.KFold)\n",
    "    \n",
    "    :param xTrain: The training data.\n",
    "    :type xTrain: numpy.ndarray\n",
    "    \n",
    "    :param yTrain: The target data.\n",
    "    :type yTrain: numpy.ndarray\n",
    "    \n",
    "    :param folds: The number of folds to use for cross-validation. (Default: 5)\n",
    "    :type folds: int\n",
    "    \n",
    "    :return LogisticRegression: The trained Logistic Regression model.\n",
    "    \"\"\"\n",
    "    model = LogisticRegression()\n",
    "    model.fit(xTrain, yTrain)\n",
    "\n",
    "    kFolds = KFold(n_splits = folds)\n",
    "    scores = cross_val_score(model, xTrain, yTrain, cv = kFolds)\n",
    "    print(f\"Logistic Regression Score: {scores}\")\n",
    "    print(\"%0.2f accuracy with a standard deviation of %0.2f\" % (scores.mean(), scores.std()))\n",
    "    \n",
    "    return model\n",
    "\n",
    "# ==================================================================================================== #\n",
    "\n",
    "def trainLinearRegression(xTrain, yTrain, folds = 5) -> LinearRegression:\n",
    "    \"\"\"\n",
    "    Trains a Linear Regression model using the given data.\n",
    "    \n",
    "    ## See:\n",
    "    - [LinearRegression](https://scikit-learn.org/dev/modules/generated/sklearn.linear_model.LinearRegression.html)\n",
    "    - [KFold](https://scikit-learn.org/dev/modules/generated/sklearn.model_selection.KFold.html#sklearn.model_selection.KFold)\n",
    "    \n",
    "    :param xTrain: The training data.\n",
    "    :type xTrain: numpy.ndarray\n",
    "    \n",
    "    :param yTrain: The target data.\n",
    "    :type yTrain: numpy.ndarray\n",
    "    \n",
    "    :param folds: The number of folds to use for cross-validation. (Default: 5)\n",
    "    :type folds: int\n",
    "    \n",
    "    :return LinearRegression: The trained Linear Regression model.\n",
    "    \"\"\"\n",
    "    model = LinearRegression()\n",
    "    model.fit(xTrain, yTrain)\n",
    "    \n",
    "    kFolds = KFold(n_splits = folds)\n",
    "    scores = cross_val_score(model, xTrain, yTrain, cv = kFolds)\n",
    "    print(f\"Linear Regression Score: {scores}\")\n",
    "    print(\"%0.2f accuracy with a standard deviation of %0.2f\" % (scores.mean(), scores.std()))\n",
    "    \n",
    "    return model"
   ]
  },
  {
   "cell_type": "markdown",
   "metadata": {},
   "source": [
    "## Project Functions\n",
    "\n",
    "All project related functions are created in this category, such as the `importData` function where it imports a `csv` or any excel file types and returns them as a data frame."
   ]
  },
  {
   "cell_type": "code",
   "execution_count": 6,
   "metadata": {},
   "outputs": [],
   "source": [
    "def importData(path: str) -> pd.DataFrame:\n",
    "    \"\"\"\n",
    "    Imports the data from the specified path and returns it as a DataFrame.\n",
    "    \n",
    "    :param path: The path of the file to be imported.\n",
    "    :type path: str\n",
    "    \n",
    "    :return pd.DataFrame: The data in the form of a DataFrame.\n",
    "    \"\"\"\n",
    "    \n",
    "    acceptedFormats = [\"xls\", \"xlsx\", \"xlsm\", \"xlsb\", \"odf\", \"ods\", \"odt\"]\n",
    "    \n",
    "    if path.endswith(\".csv\"):\n",
    "        return pd.read_csv(path)\n",
    "    else:\n",
    "        for format in acceptedFormats:\n",
    "            if path.endswith(format):\n",
    "                return pd.read_excel(path)\n",
    "\n",
    "# ==================================================================================================== #\n",
    "\n",
    "def splitData(dataSet: pd.DataFrame, yCol: str, scaler: any = False, testSize: float = 0.2, toDrop: list = []) -> list:\n",
    "    \"\"\"\n",
    "    Splits the dataset into training and testing data. Changes to the dataset are not made in place, allowing the original dataset to be preserved.\n",
    "    This function also scales the data if a scaler is provided. However, the scaler must be initialized before passing it to the function and the\n",
    "    scaler must be able to perform the `fit_transform` and `transform` methods. These scalers are usually from the `sklearn.preprocessing` module.\n",
    "    Using other scalers may result in an error.\n",
    "    \n",
    "    If the `testSize` is set to `0`, the function will not split the data and will return the entire dataset as the training data. This is useful\n",
    "    when the dataset is to be used for training only and not for testing. All processes will still be done as usual, but the testing data will return\n",
    "    an empty DataFrame.\n",
    "    \n",
    "    The function returns a list containing the training and testing data. Training data is stored under the key `train` and testing data is\n",
    "    stored under the key `test` in the form of a dictionary, and each of these dictionaries contain the keys `x` and `y` which represent the features\n",
    "    and labels respectively. If the data is to be extracted, it can be done as follows:\n",
    "\n",
    "    ```python\n",
    "    trainData, testData = splitData(dataSet, yCol, scaler, testSize, toDrop)\n",
    "    ```\n",
    "    \n",
    "    :param dataSet: The dataset to be split.\n",
    "    :type dataSet: pd.DataFrame\n",
    "    \n",
    "    :param yCol: The column to be predicted.\n",
    "    :type yCol: str\n",
    "    \n",
    "    :param scaler: The scaler to be used to scale the data. Default is `False`.\n",
    "    :type scaler: any\n",
    "    \n",
    "    :param testSize: The size of the test data. Default is `0.2`, which is 20%.\n",
    "    :type testSize: float\n",
    "    \n",
    "    :param toDrop: The columns to be dropped from the dataset. Default is `[]`.\n",
    "    :type toDrop: list\n",
    "    \n",
    "    :return list: A list containing the training and testing data.\n",
    "    \"\"\"\n",
    "    dataSet = dataSet.copy()\n",
    "    \n",
    "    if len(toDrop) > 0:\n",
    "        dataSet.drop(toDrop, axis = 1, inplace = True)\n",
    "    \n",
    "    x = dataSet.drop(yCol, axis = 1)\n",
    "    y = dataSet[yCol]\n",
    "\n",
    "    train = {}\n",
    "    test = {} \n",
    "\n",
    "    if testSize != 0:\n",
    "        train['x'], test['x'], train['y'], test['y'] = train_test_split(x, y, test_size = testSize)\n",
    "    else:\n",
    "        train['x'], train['y'] = x, y\n",
    "        test['x'], test['y'] = pd.DataFrame(), pd.DataFrame()\n",
    "\n",
    "    if (scaler != False) and (scaler != None):\n",
    "        train['x'] = scaler.fit_transform(train['x'])\n",
    "        if testSize != 0:\n",
    "            test['x'] = scaler.transform(test['x'])\n",
    "\n",
    "    return train, test\n",
    "\n",
    "# ==================================================================================================== #\n",
    "\n",
    "def selectFeatures(xTrain, yTrain, columns, useRF = True, criterion = \"squared_error\", printReport = True) -> pd.DataFrame:\n",
    "    \"\"\"\n",
    "    Uses a Decision Tree or Random Forest Regressor to select the most important features from the dataset. The function returns a DataFrame\n",
    "    containing the feature importances of each feature in the dataset. The feature importances are calculated using the `feature_importances_`\n",
    "    attribute of the regressor. The function also prints a classification report if `printReport` is set to `True`.\n",
    "    \n",
    "    The features can be deemed important if they have a high feature importance value. If the feature importance value is low, the feature may\n",
    "    not be important and can be removed from the dataset. The feature importance values can be used to determine the most important features\n",
    "    in the dataset.\n",
    "    \n",
    "    Removing features can be done as follows:\n",
    "    ```python\n",
    "    featureImportances = selectFeatures(xTrain, yTrain, columns)\n",
    "    xTrain = xTrain.loc[:, featureImportances['rfc'] > 0.1]\n",
    "    \n",
    "    # OR IF USING A DECISION TREE\n",
    "    xTrain = xTrain.loc[:, featureImportances['dt'] > 0.1]\n",
    "    ```\n",
    "    \n",
    "    :param xTrain: The training data.\n",
    "    :type xTrain: pd.DataFrame\n",
    "    \n",
    "    :param yTrain: The labels.\n",
    "    :type yTrain: pd.DataFrame\n",
    "    \n",
    "    :param columns: The columns of the dataset.\n",
    "    :type columns: list\n",
    "    \n",
    "    :param useRF: Whether to use a Random Forest Regressor or a Decision Tree Regressor. Default is `True`.\n",
    "    :type useRF: bool\n",
    "    \n",
    "    :param criterion: The function to measure the quality of a split. (Default: \"squared_error\")\n",
    "    :type criterion: {\"squared_error\", \"absolute_error\", \"friedman_mse\", \"poisson\"}, default = \"squared_error\"\n",
    "    \n",
    "    :param printReport: Whether to print the RMSE report. Default is `True`.\n",
    "    :type printReport: bool\n",
    "    \n",
    "    :return pd.DataFrame: A DataFrame containing the feature importances of each feature in the dataset. If `useRF` is set to `True`, the column name would be `rfc`, otherwise it will be `dt`.\n",
    "    \"\"\"\n",
    "    \n",
    "    if useRF:\n",
    "        featureSelector = trainRandomForest(xTrain, yTrain, criterion)\n",
    "    else:\n",
    "        featureSelector = trainDecisionTree(xTrain, yTrain, criterion)\n",
    "\n",
    "    yPred = featureSelector.predict(xTrain)\n",
    "\n",
    "    if printReport:\n",
    "        print(root_mean_squared_error(yTrain, yPred))\n",
    "\n",
    "    return pd.DataFrame(\n",
    "        {f'{\"rfc\" if useRF else \"dt\"}': featureSelector.feature_importances_},\n",
    "        index = columns\n",
    "    )\n",
    "\n",
    "# ==================================================================================================== #\n",
    "\n",
    "def selectFeaturesRFE(estimator: BaseEstimator, xTest, yTest, printReport = True) -> list:\n",
    "    \"\"\"\n",
    "    Using the Recursive Feature Elimination (RFE) method, the function selects the most important features from the dataset. The function prints\n",
    "    the support, ranking, and classification report if `printReport` is set to `True`.\n",
    "    \n",
    "    The function returns a list containing the support and ranking of the features. The support is a boolean array of the features selected and the\n",
    "    ranking is an array of the ranking of the features. The features with the lowest ranking are the most important while the features with the\n",
    "    highest ranking are the least important. On the other hand, the features with a support of `True` are selected while the features with a support\n",
    "    of `False` are not selected.\n",
    "    \n",
    "    If features are to be removed, they can be done as follows:\n",
    "        \n",
    "    ```python\n",
    "    support, ranking = selectFeaturesRFE(estimator, xTest, yTest)\n",
    "    xTrain = xTrain.loc[:, support]\n",
    "    \n",
    "    # OR\n",
    "    xTrain = xTrain.loc[:, ranking < 3]\n",
    "    ```\n",
    "    \n",
    "    :param estimator: The estimator to be used by the RFE.\n",
    "    :type estimator: BaseEstimator\n",
    "    \n",
    "    :param xTest: The testing data.\n",
    "    :type xTest: pd.DataFrame\n",
    "    \n",
    "    :param yTest: The labels.\n",
    "    :type yTest: pd.DataFrame\n",
    "    \n",
    "    :param printReport: Whether to print the classification report. Default is `True`.\n",
    "    :type printReport: bool\n",
    "    \n",
    "    :return list: A list containing the support and ranking of the features.\n",
    "    \"\"\"\n",
    "    rfe = RFE(estimator = estimator)\n",
    "    rfe.fit(xTest, yTest)\n",
    "    \n",
    "    if printReport:\n",
    "        print(f\"Support: {rfe.support_}\\n\")\n",
    "        print(f\"Ranking: {rfe.ranking_}\\n\")\n",
    "        print(f\"RMSE Report:\\n\")\n",
    "        print(root_mean_squared_error(yTest, rfe.predict(xTest)))\n",
    "\n",
    "    return rfe.support_, rfe.ranking_\n",
    "\n",
    "# ==================================================================================================== #\n",
    "\n",
    "def intersection(list1, list2) -> list:\n",
    "    \"\"\"\n",
    "    Creates a new list containing the intersection of the two lists provided.\n",
    "    \"\"\"\n",
    "    return list(set(list1) & set(list2))\n",
    "\n",
    "# ==================================================================================================== #\n",
    "\n",
    "def chunkList(lst: list, chunkSize: int) -> list:\n",
    "    \"\"\"\n",
    "    Chunks a list into smaller lists of the specified size.\n",
    "    \n",
    "    :param list: The list to be chunked.\n",
    "    :type list: list\n",
    "    \n",
    "    :param chunkSize: The size of the chunks.\n",
    "    :type chunkSize: int\n",
    "    \n",
    "    :return list: A list of chunks.\n",
    "    \"\"\"\n",
    "    it = iter(lst)\n",
    "    return iter(lambda: tuple(islice(it, chunkSize)), ())\n",
    "\n",
    "# ==================================================================================================== #\n",
    "\n",
    "def stop():\n",
    "    \"\"\"\n",
    "    Stops the execution of the program by raising an exception. This could be useful when\n",
    "    the program needs to be stopped at a certain point without killing the kernel.\n",
    "    \"\"\"\n",
    "    raise Exception(\"Program Stopped\")"
   ]
  },
  {
   "cell_type": "markdown",
   "metadata": {},
   "source": [
    "# Import Training Data"
   ]
  },
  {
   "cell_type": "code",
   "execution_count": 7,
   "metadata": {},
   "outputs": [
    {
     "data": {
      "text/html": [
       "<div>\n",
       "<style scoped>\n",
       "    .dataframe tbody tr th:only-of-type {\n",
       "        vertical-align: middle;\n",
       "    }\n",
       "\n",
       "    .dataframe tbody tr th {\n",
       "        vertical-align: top;\n",
       "    }\n",
       "\n",
       "    .dataframe thead th {\n",
       "        text-align: right;\n",
       "    }\n",
       "</style>\n",
       "<table border=\"1\" class=\"dataframe\">\n",
       "  <thead>\n",
       "    <tr style=\"text-align: right;\">\n",
       "      <th></th>\n",
       "      <th>track_id</th>\n",
       "      <th>track_name</th>\n",
       "      <th>track_artist</th>\n",
       "      <th>track_popularity</th>\n",
       "      <th>track_album_id</th>\n",
       "      <th>track_album_name</th>\n",
       "      <th>track_album_release_date</th>\n",
       "      <th>playlist_name</th>\n",
       "      <th>playlist_id</th>\n",
       "      <th>playlist_genre</th>\n",
       "      <th>...</th>\n",
       "      <th>key</th>\n",
       "      <th>loudness</th>\n",
       "      <th>mode</th>\n",
       "      <th>speechiness</th>\n",
       "      <th>acousticness</th>\n",
       "      <th>instrumentalness</th>\n",
       "      <th>liveness</th>\n",
       "      <th>valence</th>\n",
       "      <th>tempo</th>\n",
       "      <th>duration_ms</th>\n",
       "    </tr>\n",
       "  </thead>\n",
       "  <tbody>\n",
       "    <tr>\n",
       "      <th>0</th>\n",
       "      <td>6f807x0ima9a1j3VPbc7VN</td>\n",
       "      <td>I Don't Care (with Justin Bieber) - Loud Luxur...</td>\n",
       "      <td>Ed Sheeran</td>\n",
       "      <td>66</td>\n",
       "      <td>2oCs0DGTsRO98Gh5ZSl2Cx</td>\n",
       "      <td>I Don't Care (with Justin Bieber) [Loud Luxury...</td>\n",
       "      <td>2019-06-14</td>\n",
       "      <td>Pop Remix</td>\n",
       "      <td>37i9dQZF1DXcZDD7cfEKhW</td>\n",
       "      <td>pop</td>\n",
       "      <td>...</td>\n",
       "      <td>6</td>\n",
       "      <td>-2.634</td>\n",
       "      <td>1</td>\n",
       "      <td>0.0583</td>\n",
       "      <td>0.1020</td>\n",
       "      <td>0.000000</td>\n",
       "      <td>0.0653</td>\n",
       "      <td>0.518</td>\n",
       "      <td>122.036</td>\n",
       "      <td>194754</td>\n",
       "    </tr>\n",
       "    <tr>\n",
       "      <th>1</th>\n",
       "      <td>0r7CVbZTWZgbTCYdfa2P31</td>\n",
       "      <td>Memories - Dillon Francis Remix</td>\n",
       "      <td>Maroon 5</td>\n",
       "      <td>67</td>\n",
       "      <td>63rPSO264uRjW1X5E6cWv6</td>\n",
       "      <td>Memories (Dillon Francis Remix)</td>\n",
       "      <td>2019-12-13</td>\n",
       "      <td>Pop Remix</td>\n",
       "      <td>37i9dQZF1DXcZDD7cfEKhW</td>\n",
       "      <td>pop</td>\n",
       "      <td>...</td>\n",
       "      <td>11</td>\n",
       "      <td>-4.969</td>\n",
       "      <td>1</td>\n",
       "      <td>0.0373</td>\n",
       "      <td>0.0724</td>\n",
       "      <td>0.004210</td>\n",
       "      <td>0.3570</td>\n",
       "      <td>0.693</td>\n",
       "      <td>99.972</td>\n",
       "      <td>162600</td>\n",
       "    </tr>\n",
       "    <tr>\n",
       "      <th>2</th>\n",
       "      <td>1z1Hg7Vb0AhHDiEmnDE79l</td>\n",
       "      <td>All the Time - Don Diablo Remix</td>\n",
       "      <td>Zara Larsson</td>\n",
       "      <td>70</td>\n",
       "      <td>1HoSmj2eLcsrR0vE9gThr4</td>\n",
       "      <td>All the Time (Don Diablo Remix)</td>\n",
       "      <td>2019-07-05</td>\n",
       "      <td>Pop Remix</td>\n",
       "      <td>37i9dQZF1DXcZDD7cfEKhW</td>\n",
       "      <td>pop</td>\n",
       "      <td>...</td>\n",
       "      <td>1</td>\n",
       "      <td>-3.432</td>\n",
       "      <td>0</td>\n",
       "      <td>0.0742</td>\n",
       "      <td>0.0794</td>\n",
       "      <td>0.000023</td>\n",
       "      <td>0.1100</td>\n",
       "      <td>0.613</td>\n",
       "      <td>124.008</td>\n",
       "      <td>176616</td>\n",
       "    </tr>\n",
       "    <tr>\n",
       "      <th>3</th>\n",
       "      <td>75FpbthrwQmzHlBJLuGdC7</td>\n",
       "      <td>Call You Mine - Keanu Silva Remix</td>\n",
       "      <td>The Chainsmokers</td>\n",
       "      <td>60</td>\n",
       "      <td>1nqYsOef1yKKuGOVchbsk6</td>\n",
       "      <td>Call You Mine - The Remixes</td>\n",
       "      <td>2019-07-19</td>\n",
       "      <td>Pop Remix</td>\n",
       "      <td>37i9dQZF1DXcZDD7cfEKhW</td>\n",
       "      <td>pop</td>\n",
       "      <td>...</td>\n",
       "      <td>7</td>\n",
       "      <td>-3.778</td>\n",
       "      <td>1</td>\n",
       "      <td>0.1020</td>\n",
       "      <td>0.0287</td>\n",
       "      <td>0.000009</td>\n",
       "      <td>0.2040</td>\n",
       "      <td>0.277</td>\n",
       "      <td>121.956</td>\n",
       "      <td>169093</td>\n",
       "    </tr>\n",
       "    <tr>\n",
       "      <th>4</th>\n",
       "      <td>1e8PAfcKUYoKkxPhrHqw4x</td>\n",
       "      <td>Someone You Loved - Future Humans Remix</td>\n",
       "      <td>Lewis Capaldi</td>\n",
       "      <td>69</td>\n",
       "      <td>7m7vv9wlQ4i0LFuJiE2zsQ</td>\n",
       "      <td>Someone You Loved (Future Humans Remix)</td>\n",
       "      <td>2019-03-05</td>\n",
       "      <td>Pop Remix</td>\n",
       "      <td>37i9dQZF1DXcZDD7cfEKhW</td>\n",
       "      <td>pop</td>\n",
       "      <td>...</td>\n",
       "      <td>1</td>\n",
       "      <td>-4.672</td>\n",
       "      <td>1</td>\n",
       "      <td>0.0359</td>\n",
       "      <td>0.0803</td>\n",
       "      <td>0.000000</td>\n",
       "      <td>0.0833</td>\n",
       "      <td>0.725</td>\n",
       "      <td>123.976</td>\n",
       "      <td>189052</td>\n",
       "    </tr>\n",
       "    <tr>\n",
       "      <th>5</th>\n",
       "      <td>7fvUMiyapMsRRxr07cU8Ef</td>\n",
       "      <td>Beautiful People (feat. Khalid) - Jack Wins Remix</td>\n",
       "      <td>Ed Sheeran</td>\n",
       "      <td>67</td>\n",
       "      <td>2yiy9cd2QktrNvWC2EUi0k</td>\n",
       "      <td>Beautiful People (feat. Khalid) [Jack Wins Remix]</td>\n",
       "      <td>2019-07-11</td>\n",
       "      <td>Pop Remix</td>\n",
       "      <td>37i9dQZF1DXcZDD7cfEKhW</td>\n",
       "      <td>pop</td>\n",
       "      <td>...</td>\n",
       "      <td>8</td>\n",
       "      <td>-5.385</td>\n",
       "      <td>1</td>\n",
       "      <td>0.1270</td>\n",
       "      <td>0.0799</td>\n",
       "      <td>0.000000</td>\n",
       "      <td>0.1430</td>\n",
       "      <td>0.585</td>\n",
       "      <td>124.982</td>\n",
       "      <td>163049</td>\n",
       "    </tr>\n",
       "    <tr>\n",
       "      <th>6</th>\n",
       "      <td>2OAylPUDDfwRGfe0lYqlCQ</td>\n",
       "      <td>Never Really Over - R3HAB Remix</td>\n",
       "      <td>Katy Perry</td>\n",
       "      <td>62</td>\n",
       "      <td>7INHYSeusaFlyrHSNxm8qH</td>\n",
       "      <td>Never Really Over (R3HAB Remix)</td>\n",
       "      <td>2019-07-26</td>\n",
       "      <td>Pop Remix</td>\n",
       "      <td>37i9dQZF1DXcZDD7cfEKhW</td>\n",
       "      <td>pop</td>\n",
       "      <td>...</td>\n",
       "      <td>5</td>\n",
       "      <td>-4.788</td>\n",
       "      <td>0</td>\n",
       "      <td>0.0623</td>\n",
       "      <td>0.1870</td>\n",
       "      <td>0.000000</td>\n",
       "      <td>0.1760</td>\n",
       "      <td>0.152</td>\n",
       "      <td>112.648</td>\n",
       "      <td>187675</td>\n",
       "    </tr>\n",
       "    <tr>\n",
       "      <th>7</th>\n",
       "      <td>6b1RNvAcJjQH73eZO4BLAB</td>\n",
       "      <td>Post Malone (feat. RANI) - GATTÜSO Remix</td>\n",
       "      <td>Sam Feldt</td>\n",
       "      <td>69</td>\n",
       "      <td>6703SRPsLkS4bPtMFFJes1</td>\n",
       "      <td>Post Malone (feat. RANI) [GATTÜSO Remix]</td>\n",
       "      <td>2019-08-29</td>\n",
       "      <td>Pop Remix</td>\n",
       "      <td>37i9dQZF1DXcZDD7cfEKhW</td>\n",
       "      <td>pop</td>\n",
       "      <td>...</td>\n",
       "      <td>4</td>\n",
       "      <td>-2.419</td>\n",
       "      <td>0</td>\n",
       "      <td>0.0434</td>\n",
       "      <td>0.0335</td>\n",
       "      <td>0.000005</td>\n",
       "      <td>0.1110</td>\n",
       "      <td>0.367</td>\n",
       "      <td>127.936</td>\n",
       "      <td>207619</td>\n",
       "    </tr>\n",
       "    <tr>\n",
       "      <th>8</th>\n",
       "      <td>7bF6tCO3gFb8INrEDcjNT5</td>\n",
       "      <td>Tough Love - Tiësto Remix / Radio Edit</td>\n",
       "      <td>Avicii</td>\n",
       "      <td>68</td>\n",
       "      <td>7CvAfGvq4RlIwEbT9o8Iav</td>\n",
       "      <td>Tough Love (Tiësto Remix)</td>\n",
       "      <td>2019-06-14</td>\n",
       "      <td>Pop Remix</td>\n",
       "      <td>37i9dQZF1DXcZDD7cfEKhW</td>\n",
       "      <td>pop</td>\n",
       "      <td>...</td>\n",
       "      <td>8</td>\n",
       "      <td>-3.562</td>\n",
       "      <td>1</td>\n",
       "      <td>0.0565</td>\n",
       "      <td>0.0249</td>\n",
       "      <td>0.000004</td>\n",
       "      <td>0.6370</td>\n",
       "      <td>0.366</td>\n",
       "      <td>127.015</td>\n",
       "      <td>193187</td>\n",
       "    </tr>\n",
       "    <tr>\n",
       "      <th>9</th>\n",
       "      <td>1IXGILkPm0tOCNeq00kCPa</td>\n",
       "      <td>If I Can't Have You - Gryffin Remix</td>\n",
       "      <td>Shawn Mendes</td>\n",
       "      <td>67</td>\n",
       "      <td>4QxzbfSsVryEQwvPFEV5Iu</td>\n",
       "      <td>If I Can't Have You (Gryffin Remix)</td>\n",
       "      <td>2019-06-20</td>\n",
       "      <td>Pop Remix</td>\n",
       "      <td>37i9dQZF1DXcZDD7cfEKhW</td>\n",
       "      <td>pop</td>\n",
       "      <td>...</td>\n",
       "      <td>2</td>\n",
       "      <td>-4.552</td>\n",
       "      <td>1</td>\n",
       "      <td>0.0320</td>\n",
       "      <td>0.0567</td>\n",
       "      <td>0.000000</td>\n",
       "      <td>0.0919</td>\n",
       "      <td>0.590</td>\n",
       "      <td>124.957</td>\n",
       "      <td>253040</td>\n",
       "    </tr>\n",
       "  </tbody>\n",
       "</table>\n",
       "<p>10 rows × 23 columns</p>\n",
       "</div>"
      ],
      "text/plain": [
       "                 track_id                                         track_name  \\\n",
       "0  6f807x0ima9a1j3VPbc7VN  I Don't Care (with Justin Bieber) - Loud Luxur...   \n",
       "1  0r7CVbZTWZgbTCYdfa2P31                    Memories - Dillon Francis Remix   \n",
       "2  1z1Hg7Vb0AhHDiEmnDE79l                    All the Time - Don Diablo Remix   \n",
       "3  75FpbthrwQmzHlBJLuGdC7                  Call You Mine - Keanu Silva Remix   \n",
       "4  1e8PAfcKUYoKkxPhrHqw4x            Someone You Loved - Future Humans Remix   \n",
       "5  7fvUMiyapMsRRxr07cU8Ef  Beautiful People (feat. Khalid) - Jack Wins Remix   \n",
       "6  2OAylPUDDfwRGfe0lYqlCQ                    Never Really Over - R3HAB Remix   \n",
       "7  6b1RNvAcJjQH73eZO4BLAB           Post Malone (feat. RANI) - GATTÜSO Remix   \n",
       "8  7bF6tCO3gFb8INrEDcjNT5             Tough Love - Tiësto Remix / Radio Edit   \n",
       "9  1IXGILkPm0tOCNeq00kCPa                If I Can't Have You - Gryffin Remix   \n",
       "\n",
       "       track_artist  track_popularity          track_album_id  \\\n",
       "0        Ed Sheeran                66  2oCs0DGTsRO98Gh5ZSl2Cx   \n",
       "1          Maroon 5                67  63rPSO264uRjW1X5E6cWv6   \n",
       "2      Zara Larsson                70  1HoSmj2eLcsrR0vE9gThr4   \n",
       "3  The Chainsmokers                60  1nqYsOef1yKKuGOVchbsk6   \n",
       "4     Lewis Capaldi                69  7m7vv9wlQ4i0LFuJiE2zsQ   \n",
       "5        Ed Sheeran                67  2yiy9cd2QktrNvWC2EUi0k   \n",
       "6        Katy Perry                62  7INHYSeusaFlyrHSNxm8qH   \n",
       "7         Sam Feldt                69  6703SRPsLkS4bPtMFFJes1   \n",
       "8            Avicii                68  7CvAfGvq4RlIwEbT9o8Iav   \n",
       "9      Shawn Mendes                67  4QxzbfSsVryEQwvPFEV5Iu   \n",
       "\n",
       "                                    track_album_name track_album_release_date  \\\n",
       "0  I Don't Care (with Justin Bieber) [Loud Luxury...               2019-06-14   \n",
       "1                    Memories (Dillon Francis Remix)               2019-12-13   \n",
       "2                    All the Time (Don Diablo Remix)               2019-07-05   \n",
       "3                        Call You Mine - The Remixes               2019-07-19   \n",
       "4            Someone You Loved (Future Humans Remix)               2019-03-05   \n",
       "5  Beautiful People (feat. Khalid) [Jack Wins Remix]               2019-07-11   \n",
       "6                    Never Really Over (R3HAB Remix)               2019-07-26   \n",
       "7           Post Malone (feat. RANI) [GATTÜSO Remix]               2019-08-29   \n",
       "8                          Tough Love (Tiësto Remix)               2019-06-14   \n",
       "9                If I Can't Have You (Gryffin Remix)               2019-06-20   \n",
       "\n",
       "  playlist_name             playlist_id playlist_genre  ... key  loudness  \\\n",
       "0     Pop Remix  37i9dQZF1DXcZDD7cfEKhW            pop  ...   6    -2.634   \n",
       "1     Pop Remix  37i9dQZF1DXcZDD7cfEKhW            pop  ...  11    -4.969   \n",
       "2     Pop Remix  37i9dQZF1DXcZDD7cfEKhW            pop  ...   1    -3.432   \n",
       "3     Pop Remix  37i9dQZF1DXcZDD7cfEKhW            pop  ...   7    -3.778   \n",
       "4     Pop Remix  37i9dQZF1DXcZDD7cfEKhW            pop  ...   1    -4.672   \n",
       "5     Pop Remix  37i9dQZF1DXcZDD7cfEKhW            pop  ...   8    -5.385   \n",
       "6     Pop Remix  37i9dQZF1DXcZDD7cfEKhW            pop  ...   5    -4.788   \n",
       "7     Pop Remix  37i9dQZF1DXcZDD7cfEKhW            pop  ...   4    -2.419   \n",
       "8     Pop Remix  37i9dQZF1DXcZDD7cfEKhW            pop  ...   8    -3.562   \n",
       "9     Pop Remix  37i9dQZF1DXcZDD7cfEKhW            pop  ...   2    -4.552   \n",
       "\n",
       "   mode  speechiness  acousticness  instrumentalness  liveness  valence  \\\n",
       "0     1       0.0583        0.1020          0.000000    0.0653    0.518   \n",
       "1     1       0.0373        0.0724          0.004210    0.3570    0.693   \n",
       "2     0       0.0742        0.0794          0.000023    0.1100    0.613   \n",
       "3     1       0.1020        0.0287          0.000009    0.2040    0.277   \n",
       "4     1       0.0359        0.0803          0.000000    0.0833    0.725   \n",
       "5     1       0.1270        0.0799          0.000000    0.1430    0.585   \n",
       "6     0       0.0623        0.1870          0.000000    0.1760    0.152   \n",
       "7     0       0.0434        0.0335          0.000005    0.1110    0.367   \n",
       "8     1       0.0565        0.0249          0.000004    0.6370    0.366   \n",
       "9     1       0.0320        0.0567          0.000000    0.0919    0.590   \n",
       "\n",
       "     tempo  duration_ms  \n",
       "0  122.036       194754  \n",
       "1   99.972       162600  \n",
       "2  124.008       176616  \n",
       "3  121.956       169093  \n",
       "4  123.976       189052  \n",
       "5  124.982       163049  \n",
       "6  112.648       187675  \n",
       "7  127.936       207619  \n",
       "8  127.015       193187  \n",
       "9  124.957       253040  \n",
       "\n",
       "[10 rows x 23 columns]"
      ]
     },
     "execution_count": 7,
     "metadata": {},
     "output_type": "execute_result"
    }
   ],
   "source": [
    "rawTrainDf = importData(trainData)\n",
    "rawTrainDf.head(10)"
   ]
  },
  {
   "cell_type": "markdown",
   "metadata": {},
   "source": [
    "# Data Pre-Processing\n",
    "\n",
    "Feature engineering, processing, and cleaning."
   ]
  },
  {
   "cell_type": "markdown",
   "metadata": {},
   "source": [
    "### Drop all NA values\n",
    "\n",
    "Drops all rows with empty values."
   ]
  },
  {
   "cell_type": "code",
   "execution_count": 8,
   "metadata": {},
   "outputs": [
    {
     "data": {
      "text/plain": [
       "track_id                    0\n",
       "track_name                  0\n",
       "track_artist                0\n",
       "track_popularity            0\n",
       "track_album_id              0\n",
       "track_album_name            0\n",
       "track_album_release_date    0\n",
       "playlist_name               0\n",
       "playlist_id                 0\n",
       "playlist_genre              0\n",
       "playlist_subgenre           0\n",
       "danceability                0\n",
       "energy                      0\n",
       "key                         0\n",
       "loudness                    0\n",
       "mode                        0\n",
       "speechiness                 0\n",
       "acousticness                0\n",
       "instrumentalness            0\n",
       "liveness                    0\n",
       "valence                     0\n",
       "tempo                       0\n",
       "duration_ms                 0\n",
       "dtype: int64"
      ]
     },
     "execution_count": 8,
     "metadata": {},
     "output_type": "execute_result"
    }
   ],
   "source": [
    "# drop any rows with missing value from any column, \n",
    "# axis 0 to drop the rows not the columns\n",
    "\n",
    "trainDf = rawTrainDf.dropna(how='any', axis=0)\n",
    "trainDf.isnull().sum()"
   ]
  },
  {
   "cell_type": "markdown",
   "metadata": {},
   "source": [
    "### Feature Engineering\n",
    "\n",
    "Modify the features to make them viable for fitting down the road."
   ]
  },
  {
   "cell_type": "markdown",
   "metadata": {},
   "source": [
    "#### Playlist Genre"
   ]
  },
  {
   "cell_type": "code",
   "execution_count": 17,
   "metadata": {},
   "outputs": [
    {
     "data": {
      "text/plain": [
       "array(['pop', 'rap', 'rock', 'latin', 'r&b', 'edm'], dtype=object)"
      ]
     },
     "execution_count": 17,
     "metadata": {},
     "output_type": "execute_result"
    }
   ],
   "source": [
    "trainDf['playlist_genre'].unique()"
   ]
  },
  {
   "cell_type": "markdown",
   "metadata": {},
   "source": [
    "#### Playlist Subgenre"
   ]
  },
  {
   "cell_type": "code",
   "execution_count": 18,
   "metadata": {},
   "outputs": [
    {
     "data": {
      "text/plain": [
       "array(['dance pop', 'post-teen pop', 'electropop', 'indie poptimism',\n",
       "       'hip hop', 'southern hip hop', 'gangster rap', 'trap',\n",
       "       'album rock', 'classic rock', 'permanent wave', 'hard rock',\n",
       "       'tropical', 'latin pop', 'reggaeton', 'latin hip hop',\n",
       "       'urban contemporary', 'hip pop', 'new jack swing', 'neo soul',\n",
       "       'electro house', 'big room', 'pop edm',\n",
       "       'progressive electro house'], dtype=object)"
      ]
     },
     "execution_count": 18,
     "metadata": {},
     "output_type": "execute_result"
    }
   ],
   "source": [
    "trainDf['playlist_subgenre'].unique()"
   ]
  },
  {
   "cell_type": "markdown",
   "metadata": {},
   "source": [
    "#### Fractional undersampling\n",
    "\n",
    "undersampling technique with significant number of lowlevel popularity level....\n",
    "run this to perform fractional undersampling "
   ]
  },
  {
   "cell_type": "code",
   "execution_count": 28,
   "metadata": {},
   "outputs": [
    {
     "data": {
      "image/png": "[encoded data removed]",
      "text/plain": [
       "<Figure size 500x500 with 1 Axes>"
      ]
     },
     "metadata": {},
     "output_type": "display_data"
    },
    {
     "data": {
      "image/png": "[encoded data removed]",
      "text/plain": [
       "<Figure size 500x500 with 1 Axes>"
      ]
     },
     "metadata": {},
     "output_type": "display_data"
    }
   ],
   "source": [
    "# output the distribution\n",
    "import seaborn as sns\n",
    "trainDf = rawTrainDf.dropna(how='any', axis=0)\n",
    "# BEFORE\n",
    "sns.displot(trainDf, x=\"track_popularity\", bins=100)\n",
    "plt.xlabel('track_popularity')\n",
    "plt.ylabel('Count')\n",
    "plt.title('Before undersampling')\n",
    "plt.show()\n",
    "\n",
    "\n",
    "# separate 0 and non 0 pop level\n",
    "trainDf_zero = trainDf[trainDf['track_popularity'] == 0]\n",
    "trainDf_nonZero = trainDf[trainDf['track_popularity'] > 0]\n",
    "\n",
    "# Undersampling technique: Random undersampling with fractional sampling\n",
    "trainDf_zero = trainDf_zero.sample(frac=0.1)\n",
    "\n",
    "# fuse\n",
    "trainDf = pd.concat([trainDf_zero, trainDf_nonZero])\n",
    "sns.displot(trainDf, x=\"track_popularity\", bins=100)\n",
    "plt.xlabel('track_popularity')\n",
    "plt.ylabel('Count')\n",
    "plt.title('Fractional undersampling')\n",
    "plt.show()\n",
    "\n",
    "\n",
    "\n",
    "\n",
    "\n"
   ]
  },
  {
   "cell_type": "markdown",
   "metadata": {},
   "source": [
    "#### Multiple Fractional Undersampling\n",
    "\n",
    "undersampling technique with few number of lowlevel popularity level....\n",
    "run this to perform multi fractional undersampling \n"
   ]
  },
  {
   "cell_type": "code",
   "execution_count": 26,
   "metadata": {},
   "outputs": [
    {
     "data": {
      "image/png": "[encoded data removed]",
      "text/plain": [
       "<Figure size 500x500 with 1 Axes>"
      ]
     },
     "metadata": {},
     "output_type": "display_data"
    }
   ],
   "source": [
    "import seaborn as sns\n",
    "from imblearn.under_sampling import RandomUnderSampler\n",
    "\n",
    "\n",
    "trainDf = rawTrainDf.dropna(how='any', axis=0)\n",
    "# BEFORE\n",
    "# sns.displot(trainDf, x=\"track_popularity\", bins=100)\n",
    "# plt.xlabel('track_popularity')\n",
    "# plt.ylabel('Count')\n",
    "# plt.title('Before undersampling')\n",
    "# plt.show()\n",
    "\n",
    "\n",
    "# Separate low popularity (0-5) and other tracks\n",
    "popularity_0 = trainDf[trainDf['track_popularity'] == 0]\n",
    "popularity_1_5 = trainDf[(trainDf['track_popularity'] > 0) & (trainDf['track_popularity'] <= 5)]\n",
    "popularity_6_100 = trainDf[trainDf['track_popularity'] > 5]\n",
    "\n",
    "# Apply fractional undersampling with different fractions for each range\n",
    "popularity_0 = popularity_0.sample(frac=0.1)  # Keep n% of zero-popularity tracks\n",
    "popularity_1_5 = popularity_1_5.sample(frac=0.4)  # Keep n% of low-popularity tracks\n",
    "\n",
    "# Concatenate the subsets to get the balanced data\n",
    "trainDf = pd.concat([popularity_0, popularity_1_5, popularity_6_100])\n",
    "\n",
    "# Plot the result\n",
    "sns.displot(trainDf, x=\"track_popularity\", bins=100)\n",
    "plt.xlabel('track_popularity')\n",
    "plt.ylabel('Count')\n",
    "plt.title('Multi Fractional undersampling')\n",
    "plt.show()\n"
   ]
  },
  {
   "cell_type": "markdown",
   "metadata": {},
   "source": [
    "#### Remove Features\n",
    "\n",
    "Removes all features that aren't in the `audioFeatures` list."
   ]
  },
  {
   "cell_type": "code",
   "execution_count": null,
   "metadata": {},
   "outputs": [],
   "source": [
    "trainDf = trainDf[trainDf.columns.intersection(audioFeatures)]\n",
    "trainDf.head(5)"
   ]
  },
  {
   "cell_type": "markdown",
   "metadata": {},
   "source": [
    "# Data Analytics"
   ]
  },
  {
   "cell_type": "code",
   "execution_count": null,
   "metadata": {},
   "outputs": [],
   "source": [
    "trainDf.describe().transpose()"
   ]
  },
  {
   "cell_type": "markdown",
   "metadata": {},
   "source": [
    "## Correlation\n",
    "\n",
    "Check the correlation of each features."
   ]
  },
  {
   "cell_type": "markdown",
   "metadata": {},
   "source": [
    "### Data Frame Correlation Method\n",
    "\n",
    "Using the `.corr()` function, visualize the correlation heatmap of each features."
   ]
  },
  {
   "cell_type": "code",
   "execution_count": 12,
   "metadata": {},
   "outputs": [
    {
     "ename": "NameError",
     "evalue": "name 'trainDf' is not defined",
     "output_type": "error",
     "traceback": [
      "\u001b[0;31m---------------------------------------------------------------------------\u001b[0m",
      "\u001b[0;31mNameError\u001b[0m                                 Traceback (most recent call last)",
      "Cell \u001b[0;32mIn[12], line 1\u001b[0m\n\u001b[0;32m----> 1\u001b[0m correlation \u001b[38;5;241m=\u001b[39m trainDf\u001b[38;5;241m.\u001b[39mcorr()\n\u001b[1;32m      2\u001b[0m plt\u001b[38;5;241m.\u001b[39mfigure(figsize\u001b[38;5;241m=\u001b[39m(\u001b[38;5;241m10\u001b[39m,\u001b[38;5;241m9\u001b[39m))\n\u001b[1;32m      3\u001b[0m sns\u001b[38;5;241m.\u001b[39mheatmap(correlation, annot\u001b[38;5;241m=\u001b[39m\u001b[38;5;28;01mTrue\u001b[39;00m)\n",
      "\u001b[0;31mNameError\u001b[0m: name 'trainDf' is not defined"
     ]
    }
   ],
   "source": [
    "correlation = trainDf.corr()\n",
    "plt.figure(figsize=(10,9))\n",
    "sns.heatmap(correlation, annot=True)\n",
    "plt.title(\"Correlation Heatmap\")\n",
    "plt.show()"
   ]
  },
  {
   "cell_type": "markdown",
   "metadata": {},
   "source": [
    "### Random Forest Correlation\n",
    "\n",
    "Using a Random Forest Regressor, check and visualize the correlation of features against the `track_popularity` feature."
   ]
  },
  {
   "cell_type": "code",
   "execution_count": 11,
   "metadata": {},
   "outputs": [
    {
     "ename": "NameError",
     "evalue": "name 'trainDf' is not defined",
     "output_type": "error",
     "traceback": [
      "\u001b[0;31m---------------------------------------------------------------------------\u001b[0m",
      "\u001b[0;31mNameError\u001b[0m                                 Traceback (most recent call last)",
      "Cell \u001b[0;32mIn[11], line 1\u001b[0m\n\u001b[0;32m----> 1\u001b[0m rfTrain, rfTest \u001b[38;5;241m=\u001b[39m splitData(trainDf, \u001b[38;5;124m'\u001b[39m\u001b[38;5;124mtrack_popularity\u001b[39m\u001b[38;5;124m'\u001b[39m, scaler \u001b[38;5;241m=\u001b[39m StandardScaler())\n\u001b[1;32m      3\u001b[0m featureFrameRF \u001b[38;5;241m=\u001b[39m selectFeatures(rfTrain[\u001b[38;5;124m'\u001b[39m\u001b[38;5;124mx\u001b[39m\u001b[38;5;124m'\u001b[39m], rfTrain[\u001b[38;5;124m'\u001b[39m\u001b[38;5;124my\u001b[39m\u001b[38;5;124m'\u001b[39m], indexes, useRF \u001b[38;5;241m=\u001b[39m \u001b[38;5;28;01mTrue\u001b[39;00m)\n\u001b[1;32m      4\u001b[0m featureFrameRF\u001b[38;5;241m.\u001b[39msort_values(by \u001b[38;5;241m=\u001b[39m \u001b[38;5;124m'\u001b[39m\u001b[38;5;124mrfc\u001b[39m\u001b[38;5;124m'\u001b[39m, ascending \u001b[38;5;241m=\u001b[39m \u001b[38;5;28;01mTrue\u001b[39;00m, inplace \u001b[38;5;241m=\u001b[39m \u001b[38;5;28;01mTrue\u001b[39;00m)\n",
      "\u001b[0;31mNameError\u001b[0m: name 'trainDf' is not defined"
     ]
    }
   ],
   "source": [
    "rfTrain, rfTest = splitData(trainDf, 'track_popularity', scaler = StandardScaler())\n",
    "\n",
    "featureFrameRF = selectFeatures(rfTrain['x'], rfTrain['y'], indexes, useRF = True)\n",
    "featureFrameRF.sort_values(by = 'rfc', ascending = True, inplace = True)\n",
    "\n",
    "indexRF = np.arange(len(featureFrameRF))\n",
    "figRF, axRF = plt.subplots(figsize = (10, 7))\n",
    "selectedFeaturesRF = axRF.barh(indexRF, featureFrameRF['rfc'], 0.5, color = 'blue', label = 'Feature Importance (Random Forest)')\n",
    "axRF.set(yticks = indexRF, yticklabels = featureFrameRF.index)\n",
    "\n",
    "axRF.legend()\n",
    "plt.show()"
   ]
  },
  {
   "cell_type": "markdown",
   "metadata": {},
   "source": [
    "### Decision Tree Correlation\n",
    "\n",
    "Using a Decision Tree, check and visualize the correlation of features against the `track_popularity` feature."
   ]
  },
  {
   "cell_type": "code",
   "execution_count": null,
   "metadata": {},
   "outputs": [],
   "source": [
    "dtTrain, dtTest = splitData(trainDf, 'track_popularity', scaler = StandardScaler())\n",
    "\n",
    "featureFrameDT = selectFeatures(dtTrain['x'], dtTrain['y'], indexes, useRF = False)\n",
    "featureFrameDT.sort_values(by = 'dt', ascending = True, inplace = True)\n",
    "\n",
    "indexDT = np.arange(len(featureFrameDT))\n",
    "figDT, axDT = plt.subplots(figsize = (10, 7))\n",
    "selectedFeaturesDT = axDT.barh(indexDT, featureFrameDT['dt'], 0.5, color = 'blue', label = 'Feature Importance (Decision Tree)')\n",
    "axDT.set(yticks = indexDT, yticklabels = featureFrameDT.index)\n",
    "\n",
    "axDT.legend()\n",
    "plt.show()"
   ]
  },
  {
   "cell_type": "markdown",
   "metadata": {},
   "source": [
    "### Recursive Feature Elimination\n",
    "\n",
    "Using an RFE, check the ranking of each feature to identify which features to use."
   ]
  },
  {
   "cell_type": "code",
   "execution_count": 16,
   "metadata": {},
   "outputs": [],
   "source": [
    "rfeTrain = dict()\n",
    "rfeTest = dict()\n",
    "featureFrameRFE = {\n",
    "    \"rf\": {\n",
    "        \"support\": None,\n",
    "        \"ranking\": None,\n",
    "        \"featureRanking\": dict(),\n",
    "        \"featureSupport\": dict()\n",
    "    },\n",
    "    \"dt\": {\n",
    "        \"support\": None,\n",
    "        \"ranking\": None,\n",
    "        \"featureRanking\": dict(),\n",
    "        \"featureSupport\": dict()\n",
    "    },\n",
    "    \"lr\": {\n",
    "        \"support\": None,\n",
    "        \"ranking\": None,\n",
    "        \"featureRanking\": dict(),\n",
    "        \"featureSupport\": dict()\n",
    "    }\n",
    "}\n",
    "\n",
    "# Random Forest Regressor\n",
    "rfeTrain['rf'], rfeTest['rf'] = splitData(trainDf, 'track_popularity', scaler = StandardScaler())\n",
    "# Decision Tree Regressor\n",
    "rfeTrain['dt'], rfeTest['dt'] = splitData(trainDf, 'track_popularity', scaler = StandardScaler())\n",
    "# Logistic Regression\n",
    "rfeTrain['lr'], rfeTest['lr'] = splitData(trainDf, 'track_popularity', scaler = StandardScaler())"
   ]
  },
  {
   "cell_type": "markdown",
   "metadata": {},
   "source": [
    "#### Random Forest for RFE\n",
    "\n",
    "Using Random Forest for RFE."
   ]
  },
  {
   "cell_type": "code",
   "execution_count": null,
   "metadata": {},
   "outputs": [],
   "source": [
    "# Random Forests only\n",
    "featureFrameRFE['rf']['support'], featureFrameRFE['rf']['ranking'] = selectFeaturesRFE(RandomForestRegressor(), rfeTrain['rf']['x'], rfeTrain['rf']['y'])\n",
    "\n",
    "# Sort the features based on their ranking\n",
    "for i in range(len(featureFrameRFE['rf']['ranking'])):\n",
    "    featureFrameRFE['rf']['featureRanking'][indexes[i]] = int(featureFrameRFE['rf']['ranking'][i])\n",
    "featureFrameRFE['rf']['featureRanking'] = {k: v for k, v in sorted(featureFrameRFE['rf']['featureRanking'].items(), key = lambda item: item[1], reverse = True)}\n",
    "\n",
    "# Sort the features based on their support\n",
    "for i in range(len(featureFrameRFE['rf']['support'])):\n",
    "    featureFrameRFE['rf']['featureSupport'][indexes[i]] = bool(featureFrameRFE['rf']['support'][i])\n",
    "featureFrameRFE['rf']['featureSupport'] = {k: v for k, v in sorted(featureFrameRFE['rf']['featureSupport'].items(), key = lambda item: item[1], reverse = True)}\n",
    "\n",
    "print(\"RFE with Random Forest Regressor\")\n",
    "print(featureFrameRFE['rf']['featureRanking'])\n",
    "print(featureFrameRFE['rf']['featureSupport'])\n",
    "\n",
    "# Create a horizontal bar graph\n",
    "plt.figure(figsize=(10, 7))\n",
    "plt.barh(np.arange(len(featureFrameRFE['rf']['featureRanking'])), featureFrameRFE['rf']['featureRanking'].values(), color='blue')\n",
    "plt.yticks(np.arange(len(featureFrameRFE['rf']['featureRanking'])), featureFrameRFE['rf']['featureRanking'].keys())\n",
    "plt.xlabel('Ranking')\n",
    "plt.ylabel('Features')\n",
    "plt.title('Feature Ranking using RFE with Random Forest')\n",
    "plt.show()\n"
   ]
  },
  {
   "cell_type": "markdown",
   "metadata": {},
   "source": [
    "#### Decision Tree for RFE\n",
    "\n",
    "Using Decision Tree for RFE."
   ]
  },
  {
   "cell_type": "code",
   "execution_count": null,
   "metadata": {},
   "outputs": [],
   "source": [
    "# Decision Tree only\n",
    "featureFrameRFE['dt']['support'], featureFrameRFE['dt']['ranking'] = selectFeaturesRFE(DecisionTreeRegressor(), rfeTrain['dt']['x'], rfeTrain['dt']['y'])\n",
    "\n",
    "# Sort the features based on their ranking\n",
    "for i in range(len(featureFrameRFE['dt']['ranking'])):\n",
    "    featureFrameRFE['dt']['featureRanking'][indexes[i]] = int(featureFrameRFE['dt']['ranking'][i])\n",
    "featureFrameRFE['dt']['featureRanking'] = {k: v for k, v in sorted(featureFrameRFE['dt']['featureRanking'].items(), key = lambda item: item[1], reverse = True)}\n",
    "\n",
    "# Sort the features based on their support\n",
    "for i in range(len(featureFrameRFE['dt']['support'])):\n",
    "    featureFrameRFE['dt']['featureSupport'][indexes[i]] = bool(featureFrameRFE['dt']['support'][i])\n",
    "featureFrameRFE['dt']['featureSupport'] = {k: v for k, v in sorted(featureFrameRFE['dt']['featureSupport'].items(), key = lambda item: item[1], reverse = True)}\n",
    "\n",
    "print(\"RFE with Decision Tree Regressor\")\n",
    "print(featureFrameRFE['dt']['featureRanking'])\n",
    "print(featureFrameRFE['dt']['featureSupport'])\n",
    "\n",
    "# Create a horizontal bar graph\n",
    "plt.figure(figsize=(10, 7))\n",
    "plt.barh(np.arange(len(featureFrameRFE['dt']['featureRanking'])), featureFrameRFE['dt']['featureRanking'].values(), color='blue')\n",
    "plt.yticks(np.arange(len(featureFrameRFE['dt']['featureRanking'])), featureFrameRFE['dt']['featureRanking'].keys())\n",
    "plt.xlabel('Ranking')\n",
    "plt.ylabel('Features')\n",
    "plt.title('Feature Ranking using RFE with Decision Tree')\n",
    "plt.show()\n"
   ]
  },
  {
   "cell_type": "markdown",
   "metadata": {},
   "source": [
    "#### Logistic Regression for RFE\n",
    "\n",
    "Using Logistic Regression for RFE."
   ]
  },
  {
   "cell_type": "code",
   "execution_count": null,
   "metadata": {},
   "outputs": [],
   "source": [
    "# Random Forests only\n",
    "featureFrameRFE['lr']['support'], featureFrameRFE['lr']['ranking'] = selectFeaturesRFE(LogisticRegression(), rfeTrain['lr']['x'], rfeTrain['lr']['y'])\n",
    "\n",
    "# Sort the features based on their ranking\n",
    "for i in range(len(featureFrameRFE['lr']['ranking'])):\n",
    "    featureFrameRFE['lr']['featureRanking'][indexes[i]] = int(featureFrameRFE['lr']['ranking'][i])\n",
    "featureFrameRFE['lr']['featureRanking'] = {k: v for k, v in sorted(featureFrameRFE['lr']['featureRanking'].items(), key = lambda item: item[1], reverse = True)}\n",
    "\n",
    "# Sort the features based on their support\n",
    "for i in range(len(featureFrameRFE['lr']['support'])):\n",
    "    featureFrameRFE['lr']['featureSupport'][indexes[i]] = bool(featureFrameRFE['lr']['support'][i])\n",
    "featureFrameRFE['lr']['featureSupport'] = {k: v for k, v in sorted(featureFrameRFE['lr']['featureSupport'].items(), key = lambda item: item[1], reverse = True)}\n",
    "\n",
    "print(\"RFE with Logistic Regression\")\n",
    "print(featureFrameRFE['lr']['featureRanking'])\n",
    "print(featureFrameRFE['lr']['featureSupport'])\n",
    "\n",
    "# Create a horizontal bar graph\n",
    "plt.figure(figsize=(10, 7))\n",
    "plt.barh(np.arange(len(featureFrameRFE['lr']['featureRanking'])), featureFrameRFE['lr']['featureRanking'].values(), color='blue')\n",
    "plt.yticks(np.arange(len(featureFrameRFE['lr']['featureRanking'])), featureFrameRFE['lr']['featureRanking'].keys())\n",
    "plt.xlabel('Ranking')\n",
    "plt.ylabel('Features')\n",
    "plt.title('Feature Ranking using RFE with Logistic Regression')\n",
    "plt.show()\n"
   ]
  },
  {
   "cell_type": "markdown",
   "metadata": {},
   "source": [
    "## Comparison\n",
    "\n",
    "Compare all results and see the most relevant features."
   ]
  },
  {
   "cell_type": "code",
   "execution_count": null,
   "metadata": {},
   "outputs": [],
   "source": [
    "trainDfMod = trainDf.drop('track_popularity', axis = 1)\n",
    "print(f\"Original columns ({len(trainDfMod.columns)}):\\n{trainDfMod.columns}\")"
   ]
  },
  {
   "cell_type": "code",
   "execution_count": null,
   "metadata": {},
   "outputs": [],
   "source": [
    "# Random Forest Regressor\n",
    "tdmRF = trainDfMod.loc[:,featureFrameRF['rfc'] > 0.1]\n",
    "print(f\"Random Forest Regressor ({len(tdmRF.columns)}):\\n{tdmRF.columns}\\n\")\n",
    "\n",
    "# Decision Tree Regressor\n",
    "tdmDT = trainDfMod.loc[:,featureFrameDT['dt'] > 0.1]\n",
    "print(f\"Decision Tree Regressor ({len(tdmDT.columns)}):\\n{tdmDT.columns}\\n\")\n",
    "\n",
    "# Recursive Feature Elimination with Random Forest Regressor\n",
    "tdmRFERFSup = trainDfMod.loc[:, featureFrameRFE['rf']['support']]\n",
    "print(f\"Recursive Feature Elimination [Random Forest - Support] ({len(tdmRFERFSup.columns)}):\\n{tdmRFERFSup.columns}\\n\")\n",
    "\n",
    "tdmRFERFRan = trainDfMod.loc[:, featureFrameRFE['rf']['ranking'] < 2]\n",
    "print(f\"Recursive Feature Elimination [Random Forest - Ranking] ({len(tdmRFERFRan.columns)}):\\n{tdmRFERFRan.columns}\\n\")\n",
    "\n",
    "# Recursive Feature Elimination with Decision Tree Regressor\n",
    "tdmRFEDTSup = trainDfMod.loc[:, featureFrameRFE['dt']['support']]\n",
    "print(f\"Recursive Feature Elimination [Decision Tree - Support] ({len(tdmRFEDTSup.columns)}):\\n{tdmRFEDTSup.columns}\\n\")\n",
    "\n",
    "tdmRFEDTRan = trainDfMod.loc[:, featureFrameRFE['dt']['ranking'] < 2]\n",
    "print(f\"Recursive Feature Elimination [Decision Tree - Ranking] ({len(tdmRFEDTRan.columns)}):\\n{tdmRFEDTRan.columns}\\n\")\n",
    "\n",
    "# Recursive Feature Elimination with Logistic Regression\n",
    "tdmRFELRSup = trainDfMod.loc[:, featureFrameRFE['lr']['support']]\n",
    "print(f\"Recursive Feature Elimination [Logistic Regression - Support] ({len(tdmRFELRSup.columns)}):\\n{tdmRFELRSup.columns}\\n\")\n",
    "\n",
    "tdmRFELRRan = trainDfMod.loc[:, featureFrameRFE['lr']['ranking'] < 2]\n",
    "print(f\"Recursive Feature Elimination [Logistic Regression - Ranking] ({len(tdmRFELRRan.columns)}):\\n{tdmRFELRRan.columns}\\n\")"
   ]
  },
  {
   "cell_type": "markdown",
   "metadata": {},
   "source": [
    "### Intersection"
   ]
  },
  {
   "cell_type": "code",
   "execution_count": null,
   "metadata": {},
   "outputs": [],
   "source": [
    "selectedFeaturesIntersection = intersection(\n",
    "    tdmRF.columns,\n",
    "    intersection(\n",
    "        tdmDT.columns,\n",
    "        intersection(\n",
    "            tdmRFERFSup.columns,\n",
    "            intersection(\n",
    "                tdmRFERFRan.columns,\n",
    "                intersection(\n",
    "                    tdmRFEDTSup.columns,\n",
    "                    intersection(\n",
    "                        tdmRFEDTRan.columns,\n",
    "                        intersection(\n",
    "                            tdmRFELRSup.columns,\n",
    "                            tdmRFELRRan.columns\n",
    "                        )\n",
    "                    )\n",
    "                )\n",
    "            )\n",
    "        )\n",
    "    )\n",
    ")\n",
    "\n",
    "selectedFeaturesIntersection"
   ]
  },
  {
   "cell_type": "markdown",
   "metadata": {},
   "source": [
    "### Frequency"
   ]
  },
  {
   "cell_type": "code",
   "execution_count": 23,
   "metadata": {},
   "outputs": [],
   "source": [
    "selectedFeaturesFrequency = dict()\n",
    "currentlySelectedFeatures = [tdmRF, tdmDT, tdmRFERFSup, tdmRFERFRan, tdmRFEDTSup, tdmRFEDTRan, tdmRFELRSup, tdmRFELRRan]"
   ]
  },
  {
   "cell_type": "code",
   "execution_count": null,
   "metadata": {},
   "outputs": [],
   "source": [
    "for features in currentlySelectedFeatures:\n",
    "    for feature in features.columns:\n",
    "        if feature in selectedFeaturesFrequency:\n",
    "            selectedFeaturesFrequency[feature] += 1\n",
    "        else:\n",
    "            selectedFeaturesFrequency[feature] = 1\n",
    "\n",
    "selectedFeaturesFrequency = {k: v for k, v in sorted(selectedFeaturesFrequency.items(), key = lambda item: item[1], reverse = True)}\n",
    "selectedFeaturesFrequency"
   ]
  },
  {
   "cell_type": "markdown",
   "metadata": {},
   "source": [
    "#### Frequency Bar Graph"
   ]
  },
  {
   "cell_type": "code",
   "execution_count": null,
   "metadata": {},
   "outputs": [],
   "source": [
    "plt.figure(figsize=(10, 7))\n",
    "plt.barh(np.arange(len(selectedFeaturesFrequency)), selectedFeaturesFrequency.values(), color='blue')\n",
    "plt.yticks(np.arange(len(selectedFeaturesFrequency)), selectedFeaturesFrequency.keys())\n",
    "plt.xlabel('Frequency')\n",
    "plt.ylabel('Features')\n",
    "plt.title('Feature Frequency')\n",
    "plt.show()"
   ]
  },
  {
   "cell_type": "markdown",
   "metadata": {},
   "source": [
    "## Data Processing\n",
    "\n",
    "Process data once more to only use the important features.\n",
    "\n",
    "Intersection won't be used in this case due to a very low feature count."
   ]
  },
  {
   "cell_type": "code",
   "execution_count": null,
   "metadata": {},
   "outputs": [],
   "source": [
    "# Get 70% of the total number of features\n",
    "topFeatures = int(len(selectedFeaturesFrequency) * 0.75)\n",
    "topFeatures"
   ]
  },
  {
   "cell_type": "code",
   "execution_count": null,
   "metadata": {},
   "outputs": [],
   "source": [
    "sffk = list(selectedFeaturesFrequency.keys())\n",
    "sffk = sffk[:topFeatures]\n",
    "sffk.append('track_popularity')\n",
    "sffk"
   ]
  },
  {
   "cell_type": "code",
   "execution_count": null,
   "metadata": {},
   "outputs": [],
   "source": [
    "frequencyDf = trainDf.loc[:, sffk]\n",
    "frequencyDf.head(5)"
   ]
  },
  {
   "cell_type": "markdown",
   "metadata": {},
   "source": [
    "# Model Analytics\n",
    "\n",
    "Check which model is the best to use in this scenario.\n",
    "\n",
    "The following models are the one that are currently available for use:\n",
    "\n",
    "- [Simple Linear Regression](#simple-linear-regression)\n",
    "- [Logistic Regression](#logistic-regression)\n",
    "- [Decision Tree](#decision-tree)\n",
    "- [Random Forest](#random-forest)"
   ]
  },
  {
   "cell_type": "markdown",
   "metadata": {},
   "source": [
    "## Model Training"
   ]
  },
  {
   "cell_type": "code",
   "execution_count": 63,
   "metadata": {},
   "outputs": [],
   "source": [
    "folds = 10\n",
    "testSize = 0\n",
    "modelTrainingData, modelTestData = splitData(frequencyDf, 'track_popularity', scaler = StandardScaler(), testSize = testSize)"
   ]
  },
  {
   "cell_type": "code",
   "execution_count": null,
   "metadata": {},
   "outputs": [],
   "source": [
    "# TODO: Add a training model if testSize is 0\n",
    "if (testSize == 0):\n",
    "    pass"
   ]
  },
  {
   "cell_type": "markdown",
   "metadata": {},
   "source": [
    "### Simple Linear Regression"
   ]
  },
  {
   "cell_type": "code",
   "execution_count": null,
   "metadata": {},
   "outputs": [],
   "source": [
    "modelLR = trainLinearRegression(modelTrainingData[\"x\"], modelTrainingData[\"y\"], folds = folds)\n",
    "yPredLR = modelLR.predict(modelTestData[\"x\"])\n",
    "print()\n",
    "\n",
    "# Mean Squared Error\n",
    "mseLR = root_mean_squared_error(modelTestData[\"y\"], yPredLR)\n",
    "print(f\"Mean Squared Error: {mseLR:.2f}\")\n",
    "\n",
    "# Accuracy Score\n",
    "accuracyScoreLR = modelLR.score(modelTestData[\"x\"], modelTestData[\"y\"])\n",
    "print(f\"Accuracy Score: {accuracyScoreLR * 100:.2f}%\")\n",
    "\n",
    "# Show Table of Predicted vs Actual Values\n",
    "pd.DataFrame({\n",
    "    \"Predicted\": yPredLR,\n",
    "    \"Actual\": modelTestData[\"y\"]\n",
    "})"
   ]
  },
  {
   "cell_type": "markdown",
   "metadata": {},
   "source": [
    "### Logistic Regression"
   ]
  },
  {
   "cell_type": "code",
   "execution_count": null,
   "metadata": {},
   "outputs": [],
   "source": [
    "modelLGR = trainLogisticRegression(modelTrainingData[\"x\"], modelTrainingData[\"y\"], folds = folds)\n",
    "yPredLGR = modelLGR.predict(modelTestData[\"x\"])\n",
    "print()\n",
    "\n",
    "# Mean Squared Error\n",
    "mseLGR = root_mean_squared_error(modelTestData[\"y\"], yPredLGR)\n",
    "print(f\"Mean Squared Error: {mseLGR:.2f}\")\n",
    "\n",
    "# Accuracy Score\n",
    "accuracyScoreLGR = modelLGR.score(modelTestData[\"x\"], modelTestData[\"y\"])\n",
    "print(f\"Accuracy Score: {accuracyScoreLGR * 100:.2f}%\")\n",
    "\n",
    "# Show Table of Predicted vs Actual Values\n",
    "pd.DataFrame({\n",
    "    \"Predicted\": yPredLGR,\n",
    "    \"Actual\": modelTestData[\"y\"]\n",
    "})"
   ]
  },
  {
   "cell_type": "markdown",
   "metadata": {},
   "source": [
    "### Decision Tree"
   ]
  },
  {
   "cell_type": "code",
   "execution_count": null,
   "metadata": {},
   "outputs": [],
   "source": [
    "modelDT = trainDecisionTree(modelTrainingData[\"x\"], modelTrainingData[\"y\"], folds = folds)\n",
    "yPredDT = modelDT.predict(modelTestData[\"x\"])\n",
    "print()\n",
    "\n",
    "# Mean Squared Error\n",
    "mseDT = root_mean_squared_error(modelTestData[\"y\"], yPredDT)\n",
    "print(f\"Mean Squared Error: {mseDT:.2f}\")\n",
    "\n",
    "# Accuracy Score\n",
    "accuracyScoreDT = modelDT.score(modelTestData[\"x\"], modelTestData[\"y\"])\n",
    "print(f\"Accuracy Score: {accuracyScoreDT * 100:.2f}%\")\n",
    "\n",
    "# Show Table of Predicted vs Actual Values\n",
    "pd.DataFrame({\n",
    "    \"Predicted\": yPredDT,\n",
    "    \"Actual\": modelTestData[\"y\"]\n",
    "})"
   ]
  },
  {
   "cell_type": "markdown",
   "metadata": {},
   "source": [
    "### Random Forest"
   ]
  },
  {
   "cell_type": "code",
   "execution_count": null,
   "metadata": {},
   "outputs": [],
   "source": [
    "modelRF = trainRandomForest(modelTrainingData[\"x\"], modelTrainingData[\"y\"], folds = folds)\n",
    "yPredRF = modelRF.predict(modelTestData[\"x\"])\n",
    "print()\n",
    "\n",
    "# Mean Squared Error\n",
    "mseRF = root_mean_squared_error(modelTestData[\"y\"], yPredRF)\n",
    "print(f\"Mean Squared Error: {mseRF:.2f}\")\n",
    "\n",
    "# Accuracy Score\n",
    "accuracyScoreRF = modelRF.score(modelTestData[\"x\"], modelTestData[\"y\"])\n",
    "print(f\"Accuracy Score: {accuracyScoreRF * 100:.2f}%\")\n",
    "\n",
    "# Show Table of Predicted vs Actual Values\n",
    "pd.DataFrame({\n",
    "    \"Predicted\": yPredRF,\n",
    "    \"Actual\": modelTestData[\"y\"]\n",
    "})"
   ]
  },
  {
   "cell_type": "markdown",
   "metadata": {},
   "source": [
    "# Prediction\n",
    "\n",
    "Predict some data."
   ]
  },
  {
   "cell_type": "markdown",
   "metadata": {},
   "source": [
    "## Fetch Music\n",
    "\n",
    "- Kekkon Koushinkyoku (ASOBI同盟)   - 09o4dR4x2Sx6wjv4u5xdux\n",
    "- Night Dancer (imase)              - 3gmn76fCtpDazGMnN0QMHX\n",
    "- Fallen (Lola Amour)               - 4mc3rUoMwwiNTHA4al9nNd"
   ]
  },
  {
   "cell_type": "code",
   "execution_count": null,
   "metadata": {},
   "outputs": [],
   "source": [
    "# All other songs goes here.\n",
    "songIDs = [\n",
    "    \"3gmn76fCtpDazGMnN0QMHX\",\n",
    "    \"4mc3rUoMwwiNTHA4al9nNd\"\n",
    "]\n",
    "\n",
    "# Initial song goes here for variable initialization\n",
    "songData = getSongData(\"09o4dR4x2Sx6wjv4u5xdux\", True, True)\n",
    "forPrediction = {\n",
    "    \"data\": songData[0],\n",
    "    \"name\": [songData[1]],\n",
    "    \"actual\": [int(songData[0].iloc[0]['track_popularity'])]\n",
    "}\n",
    "\n",
    "dataLen = 1\n",
    "for id in songIDs:\n",
    "    songData = getSongData(id, True, True)\n",
    "    songData[0].index = [dataLen]\n",
    "    dataLen += 1\n",
    "    forPrediction[\"data\"] = pd.concat([forPrediction[\"data\"], songData[0]])\n",
    "    forPrediction[\"name\"].append(songData[1])\n",
    "    forPrediction[\"actual\"].append(int(songData[0].iloc[0]['track_popularity']))\n",
    "    # Sleep for 1 second to avoid rate limiting\n",
    "    sleep(1)\n",
    "\n",
    "forPrediction[\"data\"] = forPrediction[\"data\"].loc[:, sffk]\n",
    "forPrediction[\"data\"].drop('track_popularity', axis = 1, inplace = True)\n",
    "forPrediction[\"scaled\"] = {\n",
    "    \"standard\": StandardScaler().fit_transform(forPrediction[\"data\"]),\n",
    "    \"minMax\": MinMaxScaler().fit_transform(forPrediction[\"data\"])\n",
    "}\n",
    "\n",
    "nameActual = pd.DataFrame({\"Song Name\": forPrediction[\"name\"], \"Actual Scores\": forPrediction[\"actual\"]})\n",
    "nameActual"
   ]
  },
  {
   "cell_type": "code",
   "execution_count": null,
   "metadata": {},
   "outputs": [],
   "source": [
    "forPrediction[\"data\"]"
   ]
  },
  {
   "cell_type": "markdown",
   "metadata": {},
   "source": [
    "## Predict Data\n",
    "\n",
    "Predict the data for the fetched music."
   ]
  },
  {
   "cell_type": "markdown",
   "metadata": {},
   "source": [
    "### Standard Scaler"
   ]
  },
  {
   "cell_type": "code",
   "execution_count": 36,
   "metadata": {},
   "outputs": [],
   "source": [
    "yPredLR = modelLR.predict(forPrediction[\"scaled\"][\"standard\"])\n",
    "yPredLGR = modelLGR.predict(forPrediction[\"scaled\"][\"standard\"])\n",
    "yPredDT = modelDT.predict(forPrediction[\"scaled\"][\"standard\"])\n",
    "yPredRF = modelRF.predict(forPrediction[\"scaled\"][\"standard\"])"
   ]
  },
  {
   "cell_type": "code",
   "execution_count": null,
   "metadata": {},
   "outputs": [],
   "source": [
    "print(f\"Accuracy Score for Linear Regression: {modelLR.score(forPrediction[\"scaled\"][\"standard\"], forPrediction['actual']) * 100:.2f}%\")\n",
    "print(f\"Accuracy Score for Logistic Regression: {modelLGR.score(forPrediction[\"scaled\"][\"standard\"], forPrediction['actual']) * 100:.2f}%\")\n",
    "print(f\"Accuracy Score for Decision Tree: {modelDT.score(forPrediction['scaled']['minMax'], forPrediction['actual']) * 100:.2f}%\")\n",
    "print(f\"Accuracy Score for Random Forest: {modelRF.score(forPrediction['scaled']['minMax'], forPrediction['actual']) * 100:.2f}%\")"
   ]
  },
  {
   "cell_type": "code",
   "execution_count": null,
   "metadata": {},
   "outputs": [],
   "source": [
    "print(f\"Mean Squared Error for Linear Regression: {root_mean_squared_error(forPrediction[\"actual\"], yPredLR)}\")\n",
    "print(f\"Mean Squared Error for Logistic Regression: {root_mean_squared_error(forPrediction[\"actual\"], yPredLGR)}\")\n",
    "print(f\"Mean Squared Error for Decision Tree: {root_mean_squared_error(forPrediction[\"actual\"], yPredDT)}\")\n",
    "print(f\"Mean Squared Error for Random Forest: {root_mean_squared_error(forPrediction[\"actual\"], yPredRF)}\")"
   ]
  },
  {
   "cell_type": "code",
   "execution_count": null,
   "metadata": {},
   "outputs": [],
   "source": [
    "pd.DataFrame({\n",
    "    \"Linear Regression\": yPredLR,\n",
    "    \"Logistic Regression\": yPredLGR,\n",
    "    \"Decision Tree\": yPredDT,\n",
    "    \"Random Forest\": yPredRF,\n",
    "    \"Actual\": forPrediction[\"actual\"]\n",
    "})"
   ]
  },
  {
   "cell_type": "markdown",
   "metadata": {},
   "source": [
    "### MinMax Scaler"
   ]
  },
  {
   "cell_type": "code",
   "execution_count": 40,
   "metadata": {},
   "outputs": [],
   "source": [
    "yPredLR = modelLR.predict(forPrediction[\"scaled\"][\"minMax\"])\n",
    "yPredLGR = modelLGR.predict(forPrediction[\"scaled\"][\"minMax\"])\n",
    "yPredDT = modelDT.predict(forPrediction[\"scaled\"][\"minMax\"])\n",
    "yPredRF = modelRF.predict(forPrediction[\"scaled\"][\"minMax\"])"
   ]
  },
  {
   "cell_type": "code",
   "execution_count": null,
   "metadata": {},
   "outputs": [],
   "source": [
    "print(f\"Accuracy Score for Linear Regression: {modelLR.score(forPrediction[\"scaled\"][\"minMax\"], forPrediction['actual']) * 100:.2f}%\")\n",
    "print(f\"Accuracy Score for Logistic Regression: {modelLGR.score(forPrediction[\"scaled\"][\"minMax\"], forPrediction['actual']) * 100:.2f}%\")\n",
    "print(f\"Accuracy Score for Decision Tree: {modelDT.score(forPrediction['scaled']['minMax'], forPrediction['actual']) * 100:.2f}%\")\n",
    "print(f\"Accuracy Score for Random Forest: {modelRF.score(forPrediction['scaled']['minMax'], forPrediction['actual']) * 100:.2f}%\")"
   ]
  },
  {
   "cell_type": "code",
   "execution_count": null,
   "metadata": {},
   "outputs": [],
   "source": [
    "print(f\"Mean Squared Error for Linear Regression: {root_mean_squared_error(forPrediction[\"actual\"], yPredLR)}\")\n",
    "print(f\"Mean Squared Error for Logistic Regression: {root_mean_squared_error(forPrediction[\"actual\"], yPredLGR)}\")\n",
    "print(f\"Mean Squared Error for Decision Tree: {root_mean_squared_error(forPrediction[\"actual\"], yPredDT)}\")\n",
    "print(f\"Mean Squared Error for Random Forest: {root_mean_squared_error(forPrediction[\"actual\"], yPredRF)}\")"
   ]
  },
  {
   "cell_type": "code",
   "execution_count": null,
   "metadata": {},
   "outputs": [],
   "source": [
    "pd.DataFrame({\n",
    "    \"Linear Regression\": yPredLR,\n",
    "    \"Logistic Regression\": yPredLGR,\n",
    "    \"Decision Tree\": yPredDT,\n",
    "    \"Random Forest\": yPredRF,\n",
    "    \"Actual\": forPrediction[\"actual\"]\n",
    "})"
   ]
  },
  {
   "cell_type": "markdown",
   "metadata": {},
   "source": [
    "## More Prediction Test"
   ]
  },
  {
   "cell_type": "markdown",
   "metadata": {},
   "source": [
    "### Import Test Data"
   ]
  },
  {
   "cell_type": "code",
   "execution_count": null,
   "metadata": {},
   "outputs": [],
   "source": [
    "testData = importData(f\"{dataPath}/custom-1/tracks_features.csv\")\n",
    "testData.head(5)"
   ]
  },
  {
   "cell_type": "markdown",
   "metadata": {},
   "source": [
    "### Cut Data\n",
    "\n",
    "Limit the fetched data into just 1000 items to prevent rate limiting."
   ]
  },
  {
   "cell_type": "code",
   "execution_count": 45,
   "metadata": {},
   "outputs": [],
   "source": [
    "amountToKeep = len(testData)"
   ]
  },
  {
   "cell_type": "markdown",
   "metadata": {},
   "source": [
    "If the `amountToKeep` is similar to the rows of data, then just skip the cutting part."
   ]
  },
  {
   "cell_type": "code",
   "execution_count": null,
   "metadata": {},
   "outputs": [],
   "source": [
    "# 250000 Items\n",
    "\n",
    "if (amountToKeep != len(testData)):\n",
    "    testData = testData[:250000]\n",
    "\n",
    "len(testData)"
   ]
  },
  {
   "cell_type": "markdown",
   "metadata": {},
   "source": [
    "### Extract IDs\n",
    "\n",
    "Extract IDs as a single list then make them in chunks of 100 items per list."
   ]
  },
  {
   "cell_type": "code",
   "execution_count": null,
   "metadata": {},
   "outputs": [],
   "source": [
    "trackIDs = list(chunkList(testData['id'], 100))\n",
    "trackIDs"
   ]
  },
  {
   "cell_type": "code",
   "execution_count": null,
   "metadata": {},
   "outputs": [],
   "source": [
    "trackIDChunks = []\n",
    "\n",
    "for chunk in trackIDs:\n",
    "    trackIDChunks.append(\",\".join(chunk))\n",
    "\n",
    "print(len(trackIDChunks))\n",
    "trackIDChunks"
   ]
  },
  {
   "cell_type": "markdown",
   "metadata": {},
   "source": [
    "### Insert Track Popularity\n",
    "\n",
    "Insert the `track_popularity` column in chunks then use `sleep` function to prevent rate limiting. It could be changed into `1` second instead but it's risky."
   ]
  },
  {
   "cell_type": "code",
   "execution_count": null,
   "metadata": {},
   "outputs": [],
   "source": [
    "testData['track_popularity'] = int(0)\n",
    "for chunk in trackIDChunks:\n",
    "    sleep(3)\n",
    "    popularity = getPopularity(chunk, multiple = True)\n",
    "    for itemID in popularity:\n",
    "        testData.loc[testData['id'] == itemID, 'track_popularity'] = int(popularity[itemID])\n",
    "\n",
    "testData.head(5)"
   ]
  },
  {
   "cell_type": "markdown",
   "metadata": {},
   "source": [
    "### Feature Engineering"
   ]
  },
  {
   "cell_type": "code",
   "execution_count": null,
   "metadata": {},
   "outputs": [],
   "source": [
    "testData = testData.loc[:, sffk]\n",
    "testData.head(5)"
   ]
  },
  {
   "cell_type": "markdown",
   "metadata": {},
   "source": [
    "Drop all rows with a `track_popularity` of `0`."
   ]
  },
  {
   "cell_type": "code",
   "execution_count": 113,
   "metadata": {},
   "outputs": [],
   "source": [
    "testData.drop(testData[testData.track_popularity == 0].index, inplace = True)"
   ]
  },
  {
   "cell_type": "code",
   "execution_count": null,
   "metadata": {},
   "outputs": [],
   "source": [
    "testDataDict = {\n",
    "    \"actual\": testData['track_popularity'],\n",
    "    \"data\": testData.drop('track_popularity', axis = 1),\n",
    "}\n",
    "\n",
    "testDataDict[\"data\"] = StandardScaler().fit_transform(testDataDict[\"data\"])\n",
    "testDataDict[\"data\"].shape"
   ]
  },
  {
   "cell_type": "markdown",
   "metadata": {},
   "source": [
    "#### Checkpoint\n",
    "\n",
    "Data could be save and loaded in here for other predictions, allowing faster run times and preventing the use of the API and other pre-processing stuff."
   ]
  },
  {
   "cell_type": "markdown",
   "metadata": {},
   "source": [
    "##### Save the data as CSV\n",
    "\n",
    "Save the data as CSV to prevent repeated API request."
   ]
  },
  {
   "cell_type": "code",
   "execution_count": null,
   "metadata": {},
   "outputs": [],
   "source": [
    "testDataDict[\"data\"].to_csv(f\"{dataPath}/saved/polished-data - {len(testDataDict[\"data\"])}.csv\", index = False)"
   ]
  },
  {
   "cell_type": "markdown",
   "metadata": {},
   "source": [
    "##### Load the CSV\n",
    "\n",
    "Load the CSV data here."
   ]
  },
  {
   "cell_type": "code",
   "execution_count": null,
   "metadata": {},
   "outputs": [],
   "source": [
    "testDataDict[\"data\"] = importData(f\"{dataPath}/saved/polished-data - 1.csv\")"
   ]
  },
  {
   "cell_type": "markdown",
   "metadata": {},
   "source": [
    "### Prediction"
   ]
  },
  {
   "cell_type": "markdown",
   "metadata": {},
   "source": [
    "**TODO:** Add Mean Squared"
   ]
  },
  {
   "cell_type": "code",
   "execution_count": 115,
   "metadata": {},
   "outputs": [],
   "source": [
    "yPredLR = modelLR.predict(testDataDict[\"data\"])\n",
    "yPredLGR = modelLGR.predict(testDataDict[\"data\"])\n",
    "yPredDT = modelDT.predict(testDataDict[\"data\"])\n",
    "yPredRF = modelRF.predict(testDataDict[\"data\"])"
   ]
  },
  {
   "cell_type": "code",
   "execution_count": null,
   "metadata": {},
   "outputs": [],
   "source": [
    "print(f\"Accuracy Score for Linear Regression: {modelLR.score(testDataDict[\"data\"], testDataDict[\"actual\"]) * 100:.2f}%\")\n",
    "print(f\"Accuracy Score for Logistic Regression: {modelLGR.score(testDataDict[\"data\"], testDataDict[\"actual\"]) * 100:.2f}%\")\n",
    "print(f\"Accuracy Score for Decision Tree: {modelDT.score(testDataDict['data'], testDataDict['actual']) * 100:.2f}%\")\n",
    "print(f\"Accuracy Score for Random Forest: {modelRF.score(testDataDict['data'], testDataDict['actual']) * 100:.2f}%\")\n",
    "\n",
    "print()\n",
    "\n",
    "print(f\"Mean Squared Error for Linear Regression: {root_mean_squared_error(testDataDict['actual'], yPredLR):.2f} (Raw: {mean_squared_error(testDataDict['actual'], yPredLR):.2f})\")\n",
    "print(f\"Mean Squared Error for Logistic Regression: {root_mean_squared_error(testDataDict['actual'], yPredLGR):.2f} (Raw: {mean_squared_error(testDataDict['actual'], yPredLGR):.2f})\")\n",
    "print(f\"Mean Squared Error for Decision Tree: {root_mean_squared_error(testDataDict['actual'], yPredDT):.2f} (Raw: {mean_squared_error(testDataDict['actual'], yPredDT):.2f})\")\n",
    "print(f\"Mean Squared Error for Random Forest: {root_mean_squared_error(testDataDict['actual'], yPredRF):.2f} (Raw: {mean_squared_error(testDataDict['actual'], yPredRF):.2f})\")"
   ]
  },
  {
   "cell_type": "code",
   "execution_count": null,
   "metadata": {},
   "outputs": [],
   "source": [
    "popularityPrediction = pd.DataFrame({\n",
    "    \"Actual\": testDataDict[\"actual\"],\n",
    "    \"Predicted (Linear Regression)\": yPredLR,\n",
    "    \"Predicted (Logistic Regression)\": yPredLGR,\n",
    "    \"Predicted (Decision Tree)\": yPredDT,\n",
    "    \"Predicted (Random Forest)\": yPredRF\n",
    "})\n",
    "\n",
    "popularityPrediction"
   ]
  },
  {
   "cell_type": "code",
   "execution_count": 118,
   "metadata": {},
   "outputs": [],
   "source": [
    "popularityPrediction.to_csv(f\"{outputPath}/popularity-prediction - {len(popularityPrediction)}.csv\", index = False)"
   ]
  }
 ],
 "metadata": {
  "kernelspec": {
   "display_name": "com222",
   "language": "python",
   "name": "python3"
  },
  "language_info": {
   "codemirror_mode": {
    "name": "ipython",
    "version": 3
   },
   "file_extension": ".py",
   "mimetype": "text/x-python",
   "name": "python",
   "nbconvert_exporter": "python",
   "pygments_lexer": "ipython3",
   "version": "3.12.4"
  }
 },
 "nbformat": 4,
 "nbformat_minor": 2
}
