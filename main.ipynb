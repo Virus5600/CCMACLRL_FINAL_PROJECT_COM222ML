{
 "cells": [
  {
   "cell_type": "markdown",
   "metadata": {},
   "source": [
    "## imports"
   ]
  },
  {
   "cell_type": "code",
   "execution_count": 1,
   "metadata": {},
   "outputs": [],
   "source": [
    "import pandas as pd\n",
    "import numpy as np\n",
    "import matplotlib.pyplot as plt\n",
    "import seaborn as sns"
   ]
  },
  {
   "cell_type": "markdown",
   "metadata": {},
   "source": [
    "# API functions"
   ]
  },
  {
   "cell_type": "code",
   "execution_count": null,
   "metadata": {},
   "outputs": [],
   "source": [
    "import os\n",
    "import requests\n",
    "from dotenv import load_dotenv, dotenv_values\n",
    "load_dotenv()\n",
    "\n",
    "def getToken():\n",
    "    url = \"https://accounts.spotify.com/api/token\"\n",
    "    H = {\"Content-type\": \"application/x-www-form-urlencoded\"}\n",
    "    d = {\n",
    "        \"grant_type\": \"client_credentials\",\n",
    "        \"client_id\": os.getenv(\"CLIENT_ID\"),\n",
    "        \"client_secret\": os.getenv(\"CLIENT_SECRET\")\n",
    "    }\n",
    "    res = requests.post(url, headers=H, data=d)\n",
    "    \n",
    "    # if error/not working\n",
    "    if res.status_code != 200:\n",
    "        Exception(\"getToken: \",res.text)\n",
    "    \n",
    "    # example output 'BQCq8oiJHxi.....iv_5sAuoF1YwhQADyc'\n",
    "    return res.json()['access_token']\n",
    "\n",
    "# get audio features using track id\n",
    "def getAF(track_id):\n",
    "    url = \"https://api.spotify.com/v1/audio-features/\"+track_id\n",
    "    H = {\"Authorization\": \"Bearer \" + getToken() }\n",
    "    res = requests.get(url, headers=H)\n",
    "    \n",
    "    if res.status_code != 200:\n",
    "        Exception(\"getAF: \",res.text)\n",
    "    \n",
    "    return res.json()\n",
    "\n",
    "# getAF(\"7fvUMiyapMsRRxr07cU8Ef\")\n"
   ]
  },
  {
   "cell_type": "markdown",
   "metadata": {},
   "source": [
    "## import file"
   ]
  },
  {
   "cell_type": "code",
   "execution_count": null,
   "metadata": {},
   "outputs": [],
   "source": [
    "path = './datapack/spotify_songs.csv'\n",
    "df = pd.read_csv(path)"
   ]
  },
  {
   "cell_type": "markdown",
   "metadata": {},
   "source": [
    "## clean data"
   ]
  },
  {
   "cell_type": "code",
   "execution_count": 3,
   "metadata": {},
   "outputs": [],
   "source": [
    "# drop any rows with missing value from any column, \n",
    "# axis 0 to drop the rows not the columns\n",
    "\n",
    "df = df.dropna(how='any', axis=0)"
   ]
  },
  {
   "cell_type": "markdown",
   "metadata": {},
   "source": [
    "## process"
   ]
  },
  {
   "cell_type": "code",
   "execution_count": null,
   "metadata": {},
   "outputs": [],
   "source": []
  },
  {
   "cell_type": "markdown",
   "metadata": {},
   "source": [
    "### Visualization"
   ]
  },
  {
   "cell_type": "code",
   "execution_count": null,
   "metadata": {},
   "outputs": [],
   "source": [
    "audio_features = ['track_popularity', 'danceability','energy', \n",
    "'key', 'loudness', 'mode',\n",
    "'speechiness','acousticness','instrumentalness',\n",
    "'liveness', 'valence', 'tempo']\n",
    "\n",
    "correlation = df[audio_features].corr()\n",
    "plt.figure(figsize=(10,9))\n",
    "sns.heatmap(correlation, annot=True)\n",
    "plt.title(\"Correlation Heatmap\")\n",
    "plt.show()"
   ]
  }
 ],
 "metadata": {
  "kernelspec": {
   "display_name": "com222",
   "language": "python",
   "name": "python3"
  },
  "language_info": {
   "codemirror_mode": {
    "name": "ipython",
    "version": 3
   },
   "file_extension": ".py",
   "mimetype": "text/x-python",
   "name": "python",
   "nbconvert_exporter": "python",
   "pygments_lexer": "ipython3",
   "version": "3.12.4"
  }
 },
 "nbformat": 4,
 "nbformat_minor": 2
}
